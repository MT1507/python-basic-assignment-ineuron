{
 "cells": [
  {
   "cell_type": "markdown",
   "id": "39c25044",
   "metadata": {},
   "source": [
    "question 1 :"
   ]
  },
  {
   "cell_type": "markdown",
   "id": "1c07c694",
   "metadata": {},
   "source": [
    "Why are functions advantageous to have in your programs?"
   ]
  },
  {
   "cell_type": "markdown",
   "id": "6e61464d",
   "metadata": {},
   "source": [
    "Answer :"
   ]
  },
  {
   "cell_type": "markdown",
   "id": "c93b6d47",
   "metadata": {},
   "source": [
    "It helps to divide the large programs into small groups so that we can read the code, and debug the program faster and better. Python Functions stop us from writing the same logic various times. We can bind the logic in one def and then call the same over and over."
   ]
  },
  {
   "cell_type": "markdown",
   "id": "2d5ac1a8",
   "metadata": {},
   "source": [
    "question 2 :"
   ]
  },
  {
   "cell_type": "markdown",
   "id": "dea083e3",
   "metadata": {},
   "source": [
    "When does the code in a function run: when it's specified or when it's called?"
   ]
  },
  {
   "cell_type": "markdown",
   "id": "7fe1671e",
   "metadata": {},
   "source": [
    "Answer :"
   ]
  },
  {
   "cell_type": "markdown",
   "id": "d956be64",
   "metadata": {},
   "source": [
    "The code in a function run ,when it's called ."
   ]
  },
  {
   "cell_type": "markdown",
   "id": "a800521d",
   "metadata": {},
   "source": [
    "question 3:"
   ]
  },
  {
   "cell_type": "markdown",
   "id": "23807f76",
   "metadata": {},
   "source": [
    "What statement creates a function?"
   ]
  },
  {
   "cell_type": "markdown",
   "id": "625ec400",
   "metadata": {},
   "source": [
    "Answer :"
   ]
  },
  {
   "cell_type": "markdown",
   "id": "475f22c9",
   "metadata": {},
   "source": [
    "\" def \" statement creates a function"
   ]
  },
  {
   "cell_type": "markdown",
   "id": "87bd0561",
   "metadata": {},
   "source": [
    "question 4 :"
   ]
  },
  {
   "cell_type": "markdown",
   "id": "e5dbced1",
   "metadata": {},
   "source": [
    "What is the difference between a function and a function call?"
   ]
  },
  {
   "cell_type": "markdown",
   "id": "5969d348",
   "metadata": {},
   "source": [
    "Answer :"
   ]
  },
  {
   "cell_type": "markdown",
   "id": "b6e2d31f",
   "metadata": {},
   "source": [
    "Using a function to do a particular task at any point in program is called as function call. So the difference between the function and function call is, A function is procedure to achieve a particular result while function call is using this function to achive that task."
   ]
  },
  {
   "cell_type": "markdown",
   "id": "59cec93e",
   "metadata": {},
   "source": [
    "question 5 :\n"
   ]
  },
  {
   "cell_type": "markdown",
   "id": "769f3be9",
   "metadata": {},
   "source": [
    "How many global scopes are there in a Python program? How many local scopes?"
   ]
  },
  {
   "cell_type": "markdown",
   "id": "416cd565",
   "metadata": {},
   "source": [
    "Answer :"
   ]
  },
  {
   "cell_type": "markdown",
   "id": "948a8b11",
   "metadata": {},
   "source": [
    "According to python Documentation ,there's only one global Python scope per program execution.And we can use any number of local variables in local scopes  inside a function "
   ]
  },
  {
   "cell_type": "markdown",
   "id": "8ff21e09",
   "metadata": {},
   "source": [
    "question 6 :"
   ]
  },
  {
   "cell_type": "markdown",
   "id": "c200d311",
   "metadata": {},
   "source": [
    "What happens to variables in a local scope when the function call returns?"
   ]
  },
  {
   "cell_type": "markdown",
   "id": "a5cbe27d",
   "metadata": {},
   "source": [
    "Answer :\n"
   ]
  },
  {
   "cell_type": "markdown",
   "id": "075770d1",
   "metadata": {},
   "source": [
    "When the execution of the function terminates (returns), the local variables are destroyed. Codelens helps you visualize this because the local variables disappear after the function returns."
   ]
  },
  {
   "cell_type": "markdown",
   "id": "2af084ad",
   "metadata": {},
   "source": [
    "question 7 :\n",
    "    "
   ]
  },
  {
   "cell_type": "markdown",
   "id": "af32c640",
   "metadata": {},
   "source": [
    "What is the concept of a return value? Is it possible to have a return value in an expression?"
   ]
  },
  {
   "cell_type": "markdown",
   "id": "c9c03a31",
   "metadata": {},
   "source": [
    "A return statement is used to end the execution of the function call and “returns” the result (value of the expression following the return keyword) to the caller. The statements after the return statements are not executed. If the return statement is without any expression, then the special value None is returned. "
   ]
  },
  {
   "cell_type": "markdown",
   "id": "9c90f249",
   "metadata": {},
   "source": [
    "no it is not possible to have a return value in an expression"
   ]
  },
  {
   "cell_type": "markdown",
   "id": "e435a260",
   "metadata": {},
   "source": [
    "question 8 :"
   ]
  },
  {
   "cell_type": "markdown",
   "id": "3b05fd72",
   "metadata": {},
   "source": [
    "If a function does not have a return statement, what is the return value of a call to that function?"
   ]
  },
  {
   "cell_type": "markdown",
   "id": "da5049b3",
   "metadata": {},
   "source": [
    "Answer :\n"
   ]
  },
  {
   "cell_type": "markdown",
   "id": "a46537bc",
   "metadata": {},
   "source": [
    "If a function doesn't specify a return value, it returns None ."
   ]
  },
  {
   "cell_type": "markdown",
   "id": "1c11508e",
   "metadata": {},
   "source": [
    "question 9"
   ]
  },
  {
   "cell_type": "markdown",
   "id": "fa7e2069",
   "metadata": {},
   "source": [
    "How do you make a function variable refer to the global variable?"
   ]
  },
  {
   "cell_type": "markdown",
   "id": "dc41e90a",
   "metadata": {},
   "source": [
    "answer :\n"
   ]
  },
  {
   "cell_type": "markdown",
   "id": "00f7843b",
   "metadata": {},
   "source": [
    "I can make a function variable refer to the global variable using global keyword (global)"
   ]
  },
  {
   "cell_type": "markdown",
   "id": "d17a7c53",
   "metadata": {},
   "source": [
    "question 10 :"
   ]
  },
  {
   "cell_type": "markdown",
   "id": "c6b7fa3c",
   "metadata": {},
   "source": [
    "What is the data type of None?"
   ]
  },
  {
   "cell_type": "markdown",
   "id": "9fc6ea57",
   "metadata": {},
   "source": [
    "answer :"
   ]
  },
  {
   "cell_type": "markdown",
   "id": "5e0d2ddd",
   "metadata": {},
   "source": [
    "The datatype of None is Nonetype "
   ]
  },
  {
   "cell_type": "markdown",
   "id": "2eada953",
   "metadata": {},
   "source": [
    "question 11 :"
   ]
  },
  {
   "cell_type": "markdown",
   "id": "7fcb5842",
   "metadata": {},
   "source": [
    "What does the sentence import areallyourpetsnamederic do?"
   ]
  },
  {
   "cell_type": "markdown",
   "id": "7241a891",
   "metadata": {},
   "source": [
    "answer :"
   ]
  },
  {
   "cell_type": "markdown",
   "id": "b5a0db56",
   "metadata": {},
   "source": [
    "That import statement imports a module named areallyourpetsnamederic."
   ]
  },
  {
   "cell_type": "markdown",
   "id": "103d54fa",
   "metadata": {},
   "source": [
    "question 12 :\n"
   ]
  },
  {
   "cell_type": "markdown",
   "id": "6df1a851",
   "metadata": {},
   "source": [
    "If you had a bacon() feature in a spam module, what would you call it after importing spam?"
   ]
  },
  {
   "cell_type": "markdown",
   "id": "206823b2",
   "metadata": {},
   "source": [
    "answer :\n"
   ]
  },
  {
   "cell_type": "markdown",
   "id": "6505df36",
   "metadata": {},
   "source": [
    "This function can be called with spam. bacon()."
   ]
  },
  {
   "cell_type": "markdown",
   "id": "1ffc13d0",
   "metadata": {},
   "source": [
    "question 13 :\n"
   ]
  },
  {
   "cell_type": "markdown",
   "id": "7315fdf0",
   "metadata": {},
   "source": [
    "What can you do to save a programme from crashing if it encounters an error?"
   ]
  },
  {
   "cell_type": "markdown",
   "id": "6fb210bf",
   "metadata": {},
   "source": [
    "answer :"
   ]
  },
  {
   "cell_type": "markdown",
   "id": "e508ad3a",
   "metadata": {},
   "source": [
    "To save a programme from crashing if it encounters an error? ,I have to write a code inside a try and except block"
   ]
  },
  {
   "cell_type": "markdown",
   "id": "e3dc8ff4",
   "metadata": {},
   "source": [
    "question 14 :"
   ]
  },
  {
   "cell_type": "markdown",
   "id": "311e4a73",
   "metadata": {},
   "source": [
    "What is the purpose of the try clause? What is the purpose of the except clause?"
   ]
  },
  {
   "cell_type": "markdown",
   "id": "a6a36485",
   "metadata": {},
   "source": [
    "answer :"
   ]
  },
  {
   "cell_type": "markdown",
   "id": "ab9e7af2",
   "metadata": {},
   "source": [
    "The try block lets you test a block of code for errors. The except block lets you handle the error. The else block lets you execute code when there is no error. The finally block lets you execute code, regardless of the result of the try- and except blocks."
   ]
  },
  {
   "cell_type": "code",
   "execution_count": null,
   "id": "8464bb66",
   "metadata": {},
   "outputs": [],
   "source": []
  }
 ],
 "metadata": {
  "kernelspec": {
   "display_name": "Python 3 (ipykernel)",
   "language": "python",
   "name": "python3"
  },
  "language_info": {
   "codemirror_mode": {
    "name": "ipython",
    "version": 3
   },
   "file_extension": ".py",
   "mimetype": "text/x-python",
   "name": "python",
   "nbconvert_exporter": "python",
   "pygments_lexer": "ipython3",
   "version": "3.9.7"
  }
 },
 "nbformat": 4,
 "nbformat_minor": 5
}
