{
 "cells": [
  {
   "cell_type": "markdown",
   "id": "b83568ce",
   "metadata": {},
   "source": [
    "Q 1: 1. Add the current date to the text file today.txt as a string."
   ]
  },
  {
   "cell_type": "markdown",
   "id": "271dedbe",
   "metadata": {},
   "source": [
    "ans : "
   ]
  },
  {
   "cell_type": "code",
   "execution_count": 1,
   "id": "8019f99e",
   "metadata": {},
   "outputs": [],
   "source": [
    "file = open(\"today.txt\",\"a+\")"
   ]
  },
  {
   "cell_type": "code",
   "execution_count": 2,
   "id": "f0a54127",
   "metadata": {},
   "outputs": [],
   "source": [
    "import datetime\n",
    "filename = datetime.datetime.now()\n",
    "date = filename.strftime(\"%d %B %Y\")"
   ]
  },
  {
   "cell_type": "code",
   "execution_count": 3,
   "id": "6576fa8e",
   "metadata": {},
   "outputs": [
    {
     "data": {
      "text/plain": [
       "18"
      ]
     },
     "execution_count": 3,
     "metadata": {},
     "output_type": "execute_result"
    }
   ],
   "source": [
    "file.write(f\"{date}\\n\")"
   ]
  },
  {
   "cell_type": "code",
   "execution_count": 4,
   "id": "cf214f60",
   "metadata": {},
   "outputs": [],
   "source": [
    "file.close()"
   ]
  },
  {
   "cell_type": "markdown",
   "id": "23102971",
   "metadata": {},
   "source": [
    "Q 2. Read the text file today.txt into the string today_string"
   ]
  },
  {
   "cell_type": "markdown",
   "id": "340ec797",
   "metadata": {},
   "source": [
    "ans : "
   ]
  },
  {
   "cell_type": "code",
   "execution_count": 5,
   "id": "34dabb96",
   "metadata": {},
   "outputs": [],
   "source": [
    "today_string = open(\"today.txt\",\"r\")"
   ]
  },
  {
   "cell_type": "markdown",
   "id": "938c334d",
   "metadata": {},
   "source": [
    "Q 3. Parse the date from today_string."
   ]
  },
  {
   "cell_type": "markdown",
   "id": "c095dc71",
   "metadata": {},
   "source": [
    "ans :"
   ]
  },
  {
   "cell_type": "code",
   "execution_count": 6,
   "id": "dcc967ad",
   "metadata": {},
   "outputs": [
    {
     "data": {
      "text/plain": [
       "'20 August 2022\\n20 August 2022\\n20 August 2022\\n06 September 2022\\n'"
      ]
     },
     "execution_count": 6,
     "metadata": {},
     "output_type": "execute_result"
    }
   ],
   "source": [
    "today_string.read()"
   ]
  },
  {
   "cell_type": "markdown",
   "id": "4cfff34f",
   "metadata": {},
   "source": [
    "Q 4. List the files in your current directory"
   ]
  },
  {
   "cell_type": "markdown",
   "id": "9c5fe02a",
   "metadata": {},
   "source": [
    "ans : "
   ]
  },
  {
   "cell_type": "code",
   "execution_count": 7,
   "id": "50f99122",
   "metadata": {},
   "outputs": [
    {
     "name": "stdout",
     "output_type": "stream",
     "text": [
      "['books.csv', 'books.db', 'python basic assignment_01.ipynb', 'python basic assignment_02.ipynb', 'python basic assignment_03.ipynb', 'python basic assignment_04.ipynb', 'python basic assignment_05.ipynb', 'python basic assignment_06.ipynb', 'python basic assignment_07.ipynb', 'python basic assignment_08.ipynb', 'python basic assignment_09.ipynb', 'python basic assignment_10.ipynb', 'python basic assignment_11.ipynb', 'python basic assignment_12.ipynb', 'python basic assignment_13.ipynb', 'python basic assignment_14.ipynb', 'python basic assignment_15.ipynb', 'python basic assignment_16.ipynb', 'python basic assignment_17.ipynb', 'python basic assignment_18.ipynb', 'python basic assignment_19.ipynb', 'python basic assignment_20.ipynb', 'python basic assignment_21.ipynb', 'test.txt', 'today.txt', 'python basic assignment_01-checkpoint.ipynb', 'python basic assignment_02-checkpoint.ipynb', 'python basic assignment_03-checkpoint.ipynb', 'python basic assignment_04-checkpoint.ipynb', 'python basic assignment_05-checkpoint.ipynb', 'python basic assignment_06-checkpoint.ipynb', 'python basic assignment_07-checkpoint.ipynb', 'python basic assignment_08-checkpoint.ipynb', 'python basic assignment_09-checkpoint.ipynb', 'python basic assignment_10-checkpoint.ipynb', 'python basic assignment_11-checkpoint.ipynb', 'python basic assignment_12-checkpoint.ipynb', 'python basic assignment_13-checkpoint.ipynb', 'python basic assignment_14-checkpoint.ipynb', 'python basic assignment_15-checkpoint.ipynb', 'python basic assignment_16-checkpoint.ipynb', 'python basic assignment_17-checkpoint.ipynb', 'python basic assignment_18-checkpoint.ipynb', 'python basic assignment_19-checkpoint.ipynb', 'python basic assignment_20-checkpoint.ipynb', 'python basic assignment_21-checkpoint.ipynb', 'zoo.cpython-39.pyc']\n"
     ]
    }
   ],
   "source": [
    "import os\n",
    "l = []\n",
    "for subdir, dirs, files in os.walk('./'):\n",
    "    for file in files:\n",
    "        l.append(file)\n",
    "print(l)"
   ]
  },
  {
   "cell_type": "markdown",
   "id": "ee96b13a",
   "metadata": {},
   "source": [
    "Q 5. Create a list of all of the files in your parent directory (minimum five files should be available)."
   ]
  },
  {
   "cell_type": "markdown",
   "id": "d775cfae",
   "metadata": {},
   "source": [
    "ans : "
   ]
  },
  {
   "cell_type": "code",
   "execution_count": 8,
   "id": "cc3e962b",
   "metadata": {},
   "outputs": [
    {
     "name": "stdout",
     "output_type": "stream",
     "text": [
      "C:\\Users\\mange\n"
     ]
    }
   ],
   "source": [
    "cd"
   ]
  },
  {
   "cell_type": "code",
   "execution_count": 9,
   "id": "0a4a9c36",
   "metadata": {},
   "outputs": [],
   "source": [
    "from pathlib import Path\n",
    "path = str(Path(Path.cwd()).parent)"
   ]
  },
  {
   "cell_type": "code",
   "execution_count": 10,
   "id": "f7c56c56",
   "metadata": {},
   "outputs": [
    {
     "data": {
      "text/plain": [
       "['All Users', 'Default', 'Default User', 'desktop.ini', 'mange', 'Public']"
      ]
     },
     "execution_count": 10,
     "metadata": {},
     "output_type": "execute_result"
    }
   ],
   "source": [
    "import os\n",
    "os.listdir(path)"
   ]
  },
  {
   "cell_type": "markdown",
   "id": "c24b1963",
   "metadata": {},
   "source": [
    "Q 7. Create a date object of your day of birth."
   ]
  },
  {
   "cell_type": "markdown",
   "id": "bf89fd1b",
   "metadata": {},
   "source": [
    "ans :"
   ]
  },
  {
   "cell_type": "code",
   "execution_count": 16,
   "id": "a036d511",
   "metadata": {},
   "outputs": [
    {
     "name": "stdout",
     "output_type": "stream",
     "text": [
      "Enter your date of birth: 15/07/1998\n",
      "Day: 15\n",
      "Month: 7\n",
      "Year: 1998\n"
     ]
    }
   ],
   "source": [
    "from datetime import datetime\n",
    "\n",
    "birthday = input(\"Enter your date of birth: \")\n",
    "\n",
    "bday = datetime.strptime(birthday, '%d/%m/%Y')\n",
    "\n",
    "print(f'Day: {bday.day}')\n",
    "print(f'Month: {bday.month}')\n",
    "print(f'Year: {bday.year}')"
   ]
  },
  {
   "cell_type": "markdown",
   "id": "ac9d1a6b",
   "metadata": {},
   "source": [
    "Q 8. What day of the week was your day of birth?"
   ]
  },
  {
   "cell_type": "markdown",
   "id": "6c5b7d2f",
   "metadata": {},
   "source": [
    "ans :"
   ]
  },
  {
   "cell_type": "code",
   "execution_count": 21,
   "id": "e0aa6652",
   "metadata": {},
   "outputs": [
    {
     "name": "stdout",
     "output_type": "stream",
     "text": [
      "Tuesday\n"
     ]
    }
   ],
   "source": [
    "import datetime\n",
    "import calendar\n",
    " \n",
    "def findDay(date):\n",
    "    born = datetime.datetime.strptime(date, '%d %m %Y').weekday()\n",
    "    return (calendar.day_name[born])\n",
    " \n",
    "date = '21 07 1998'\n",
    "print(findDay(date))"
   ]
  },
  {
   "cell_type": "markdown",
   "id": "e9f2a77f",
   "metadata": {},
   "source": [
    "Q 9. When will you be (or when were you) 10,000 days old?"
   ]
  },
  {
   "cell_type": "markdown",
   "id": "dda1f1df",
   "metadata": {},
   "source": [
    "ans : "
   ]
  },
  {
   "cell_type": "code",
   "execution_count": 27,
   "id": "0b420937",
   "metadata": {},
   "outputs": [
    {
     "name": "stdout",
     "output_type": "stream",
     "text": [
      "2025-12-06\n"
     ]
    }
   ],
   "source": [
    "import datetime\n",
    "your_date = \"21/07/1998\"\n",
    "(day, month, years) = your_date.split(\"/\")\n",
    "date = datetime.date(int(years), int(month), int(day))\n",
    "date_10000 = date+datetime.timedelta(days=10000)\n",
    "print(date_10000)"
   ]
  },
  {
   "cell_type": "code",
   "execution_count": null,
   "id": "fdf70dac",
   "metadata": {},
   "outputs": [],
   "source": []
  }
 ],
 "metadata": {
  "kernelspec": {
   "display_name": "Python 3 (ipykernel)",
   "language": "python",
   "name": "python3"
  },
  "language_info": {
   "codemirror_mode": {
    "name": "ipython",
    "version": 3
   },
   "file_extension": ".py",
   "mimetype": "text/x-python",
   "name": "python",
   "nbconvert_exporter": "python",
   "pygments_lexer": "ipython3",
   "version": "3.9.12"
  }
 },
 "nbformat": 4,
 "nbformat_minor": 5
}
