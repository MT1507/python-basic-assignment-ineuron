{
 "cells": [
  {
   "cell_type": "markdown",
   "id": "2e69db21",
   "metadata": {},
   "source": [
    "Q 1 : Create an assert statement that throws an AssertionError if the variable spam is a negative integer."
   ]
  },
  {
   "cell_type": "markdown",
   "id": "d7bace52",
   "metadata": {},
   "source": [
    "ans :\n",
    "    "
   ]
  },
  {
   "cell_type": "code",
   "execution_count": 22,
   "id": "4444d932",
   "metadata": {},
   "outputs": [],
   "source": [
    "def insert_assert():\n",
    "    a = int(input())\n",
    "    assert a > 0,\" a should be positive integer \""
   ]
  },
  {
   "cell_type": "code",
   "execution_count": 26,
   "id": "4ce50fa3",
   "metadata": {},
   "outputs": [
    {
     "name": "stdout",
     "output_type": "stream",
     "text": [
      "43\n"
     ]
    }
   ],
   "source": [
    "insert_assert()"
   ]
  },
  {
   "cell_type": "code",
   "execution_count": 27,
   "id": "cb42812b",
   "metadata": {},
   "outputs": [
    {
     "name": "stdout",
     "output_type": "stream",
     "text": [
      "-45\n"
     ]
    },
    {
     "ename": "AssertionError",
     "evalue": " a should be positive integer ",
     "output_type": "error",
     "traceback": [
      "\u001b[1;31m---------------------------------------------------------------------------\u001b[0m",
      "\u001b[1;31mAssertionError\u001b[0m                            Traceback (most recent call last)",
      "Input \u001b[1;32mIn [27]\u001b[0m, in \u001b[0;36m<cell line: 1>\u001b[1;34m()\u001b[0m\n\u001b[1;32m----> 1\u001b[0m \u001b[43minsert_assert\u001b[49m\u001b[43m(\u001b[49m\u001b[43m)\u001b[49m\n",
      "Input \u001b[1;32mIn [22]\u001b[0m, in \u001b[0;36minsert_assert\u001b[1;34m()\u001b[0m\n\u001b[0;32m      1\u001b[0m \u001b[38;5;28;01mdef\u001b[39;00m \u001b[38;5;21minsert_assert\u001b[39m():\n\u001b[0;32m      2\u001b[0m     a \u001b[38;5;241m=\u001b[39m \u001b[38;5;28mint\u001b[39m(\u001b[38;5;28minput\u001b[39m())\n\u001b[1;32m----> 3\u001b[0m     \u001b[38;5;28;01massert\u001b[39;00m a \u001b[38;5;241m>\u001b[39m \u001b[38;5;241m0\u001b[39m,\u001b[38;5;124m\"\u001b[39m\u001b[38;5;124m a should be positive integer \u001b[39m\u001b[38;5;124m\"\u001b[39m\n",
      "\u001b[1;31mAssertionError\u001b[0m:  a should be positive integer "
     ]
    }
   ],
   "source": [
    "insert_assert()"
   ]
  },
  {
   "cell_type": "markdown",
   "id": "c4db29d3",
   "metadata": {},
   "source": [
    "Q 2 : Write an assert statement that triggers an AssertionError if the variables eggs and bacon contain\n",
    "strings that are the same as each other, even if their cases are different (that is, &#39;hello&#39; and &#39;hello&#39; are\n",
    "considered the same, and &#39;goodbye&#39; and &#39;GOODbye&#39; are also considered the same)."
   ]
  },
  {
   "cell_type": "markdown",
   "id": "757cd605",
   "metadata": {},
   "source": [
    "ans : "
   ]
  },
  {
   "cell_type": "code",
   "execution_count": 57,
   "id": "a21a69ba",
   "metadata": {},
   "outputs": [
    {
     "name": "stdout",
     "output_type": "stream",
     "text": [
      "eggs = mangesh\n",
      "bacon = MANGESH\n"
     ]
    },
    {
     "ename": "AssertionError",
     "evalue": "eggs and bacon are not to be equal",
     "output_type": "error",
     "traceback": [
      "\u001b[1;31m---------------------------------------------------------------------------\u001b[0m",
      "\u001b[1;31mAssertionError\u001b[0m                            Traceback (most recent call last)",
      "Input \u001b[1;32mIn [57]\u001b[0m, in \u001b[0;36m<cell line: 3>\u001b[1;34m()\u001b[0m\n\u001b[0;32m      1\u001b[0m eggs \u001b[38;5;241m=\u001b[39m \u001b[38;5;28mstr\u001b[39m(\u001b[38;5;28minput\u001b[39m(\u001b[38;5;124m\"\u001b[39m\u001b[38;5;124meggs = \u001b[39m\u001b[38;5;124m\"\u001b[39m))\n\u001b[0;32m      2\u001b[0m bacon \u001b[38;5;241m=\u001b[39m \u001b[38;5;28mstr\u001b[39m(\u001b[38;5;28minput\u001b[39m(\u001b[38;5;124m\"\u001b[39m\u001b[38;5;124mbacon = \u001b[39m\u001b[38;5;124m\"\u001b[39m))\n\u001b[1;32m----> 3\u001b[0m \u001b[38;5;28;01massert\u001b[39;00m eggs\u001b[38;5;241m.\u001b[39mlower() \u001b[38;5;241m!=\u001b[39m  bacon\u001b[38;5;241m.\u001b[39mlower() , \u001b[38;5;124m\"\u001b[39m\u001b[38;5;124meggs and bacon are not to be equal\u001b[39m\u001b[38;5;124m\"\u001b[39m\n",
      "\u001b[1;31mAssertionError\u001b[0m: eggs and bacon are not to be equal"
     ]
    }
   ],
   "source": [
    "eggs = str(input(\"eggs = \"))\n",
    "bacon = str(input(\"bacon = \"))\n",
    "assert eggs.lower() !=  bacon.lower() , \"eggs and bacon are not to be equal\"\n"
   ]
  },
  {
   "cell_type": "markdown",
   "id": "acfa5420",
   "metadata": {},
   "source": [
    "Q 3 : Create an assert statement that throws an AssertionError every time."
   ]
  },
  {
   "cell_type": "markdown",
   "id": "103c6a1c",
   "metadata": {},
   "source": [
    "ans :\n"
   ]
  },
  {
   "cell_type": "code",
   "execution_count": 82,
   "id": "0a30ed76",
   "metadata": {},
   "outputs": [
    {
     "ename": "AssertionError",
     "evalue": "every time assertion error appears",
     "output_type": "error",
     "traceback": [
      "\u001b[1;31m---------------------------------------------------------------------------\u001b[0m",
      "\u001b[1;31mAssertionError\u001b[0m                            Traceback (most recent call last)",
      "Input \u001b[1;32mIn [82]\u001b[0m, in \u001b[0;36m<cell line: 1>\u001b[1;34m()\u001b[0m\n\u001b[1;32m----> 1\u001b[0m \u001b[38;5;28;01massert\u001b[39;00m \u001b[38;5;28;01mFalse\u001b[39;00m, \u001b[38;5;124m\"\u001b[39m\u001b[38;5;124mevery time assertion error appears\u001b[39m\u001b[38;5;124m\"\u001b[39m\n",
      "\u001b[1;31mAssertionError\u001b[0m: every time assertion error appears"
     ]
    }
   ],
   "source": [
    "assert False, \"every time assertion error appears\"\n",
    "    "
   ]
  },
  {
   "cell_type": "markdown",
   "id": "65821f83",
   "metadata": {},
   "source": [
    "Q 4 : What are the two lines that must be present in your software in order to call logging.debug()?"
   ]
  },
  {
   "cell_type": "markdown",
   "id": "46c246c5",
   "metadata": {},
   "source": [
    "\n",
    "ans : "
   ]
  },
  {
   "cell_type": "markdown",
   "id": "eeb619dc",
   "metadata": {},
   "source": [
    "import logging"
   ]
  },
  {
   "cell_type": "markdown",
   "id": "1527a7d6",
   "metadata": {},
   "source": [
    " logging.basicConfig(level=logging.DEBUG, format=' %(asctime)s - %(levelname)s - %(message)s')"
   ]
  },
  {
   "cell_type": "markdown",
   "id": "24f9f64f",
   "metadata": {},
   "source": [
    "Q 5 : What are the two lines that your program must have in order to have logging.debug() send a\n",
    "logging message to a file named programLog.txt?"
   ]
  },
  {
   "cell_type": "markdown",
   "id": "8a59cd1c",
   "metadata": {},
   "source": [
    "ans :\n"
   ]
  },
  {
   "cell_type": "markdown",
   "id": "9e05bb54",
   "metadata": {},
   "source": [
    "import logging"
   ]
  },
  {
   "cell_type": "markdown",
   "id": "e0cb4fa3",
   "metadata": {},
   "source": [
    "logging.basicConfig(filename='programLog.txt', level=logging.DEBUG, format=' %(asctime)s - %(levelname)s - %(message)s')\n"
   ]
  },
  {
   "cell_type": "markdown",
   "id": "ff33e980",
   "metadata": {},
   "source": [
    "Q 6 : What are the five levels of logging?"
   ]
  },
  {
   "cell_type": "markdown",
   "id": "41ba5dc3",
   "metadata": {},
   "source": [
    "ans : "
   ]
  },
  {
   "cell_type": "markdown",
   "id": "3f87c1ae",
   "metadata": {},
   "source": [
    "Critical,Error,Warning,Info and Debug are the five levels of logging"
   ]
  },
  {
   "cell_type": "markdown",
   "id": "efe33dd7",
   "metadata": {},
   "source": [
    "Q 7 : What line of code would you add to your software to disable all logging messages?"
   ]
  },
  {
   "cell_type": "markdown",
   "id": "8dbc5dc8",
   "metadata": {},
   "source": [
    "ans :\n"
   ]
  },
  {
   "cell_type": "markdown",
   "id": "7096817e",
   "metadata": {},
   "source": [
    "logging.disable(logging.CRITICAL)"
   ]
  },
  {
   "cell_type": "markdown",
   "id": "dd0b7f40",
   "metadata": {},
   "source": [
    "Q 8 : Why is using logging messages better than using print() to display the same message?"
   ]
  },
  {
   "cell_type": "markdown",
   "id": "c0a4eebb",
   "metadata": {},
   "source": [
    "ans : "
   ]
  },
  {
   "cell_type": "markdown",
   "id": "eaab1b70",
   "metadata": {},
   "source": [
    "You can disable logging messages without removing the logging function calls. You can selectively disable lower-level logging messages. You can create logging messages. Logging messages provides a timestamp."
   ]
  },
  {
   "cell_type": "markdown",
   "id": "1dd9c16d",
   "metadata": {},
   "source": [
    "Q 9 : What are the differences between the Step Over, Step In, and Step Out buttons in the debugger?"
   ]
  },
  {
   "cell_type": "markdown",
   "id": "5b9cf087",
   "metadata": {},
   "source": [
    "ans :\n",
    "    "
   ]
  },
  {
   "cell_type": "markdown",
   "id": "0a4a6c30",
   "metadata": {},
   "source": [
    "Step Into will cause the debugger to go into the next function call and break there. Step Over will tell the debugger to execute the next function and break afterwards. Step Out will tell the debugger to finish the current function and break after it."
   ]
  },
  {
   "cell_type": "markdown",
   "id": "ce93e007",
   "metadata": {},
   "source": [
    "Q 10 : After you click Continue, when will the debugger stop ?"
   ]
  },
  {
   "cell_type": "markdown",
   "id": "520c108b",
   "metadata": {},
   "source": [
    "ans : "
   ]
  },
  {
   "cell_type": "markdown",
   "id": "80dcf601",
   "metadata": {},
   "source": [
    "Continue execution until the current function returns. Continue execution, only stop when a breakpoint is encountered."
   ]
  },
  {
   "cell_type": "markdown",
   "id": "86a7badb",
   "metadata": {},
   "source": [
    "Q 11 : What is the concept of a breakpoint?"
   ]
  },
  {
   "cell_type": "markdown",
   "id": "ac5b29e6",
   "metadata": {},
   "source": [
    "ans : "
   ]
  },
  {
   "cell_type": "markdown",
   "id": "0bb99930",
   "metadata": {},
   "source": [
    "In software development, a breakpoint is an intentional stopping or pausing place in a program, put in place for debugging purposes. It is also sometimes simply referred to as a pause."
   ]
  },
  {
   "cell_type": "code",
   "execution_count": null,
   "id": "9488b411",
   "metadata": {},
   "outputs": [],
   "source": []
  }
 ],
 "metadata": {
  "kernelspec": {
   "display_name": "Python 3 (ipykernel)",
   "language": "python",
   "name": "python3"
  },
  "language_info": {
   "codemirror_mode": {
    "name": "ipython",
    "version": 3
   },
   "file_extension": ".py",
   "mimetype": "text/x-python",
   "name": "python",
   "nbconvert_exporter": "python",
   "pygments_lexer": "ipython3",
   "version": "3.9.12"
  }
 },
 "nbformat": 4,
 "nbformat_minor": 5
}
