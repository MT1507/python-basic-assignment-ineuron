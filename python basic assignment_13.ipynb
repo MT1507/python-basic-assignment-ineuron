{
 "cells": [
  {
   "cell_type": "markdown",
   "id": "e8b8b565",
   "metadata": {},
   "source": [
    "Q 1 : What advantages do Excel spreadsheets have over CSV spreadsheets?"
   ]
  },
  {
   "cell_type": "markdown",
   "id": "44fa4b52",
   "metadata": {},
   "source": [
    "ans : "
   ]
  },
  {
   "cell_type": "markdown",
   "id": "4685ef32",
   "metadata": {},
   "source": [
    "Excel is more superior when compared with the CSV file format; thus, CSV consumes less amount of file size when the user is importing data; it is a much faster format compared to excel. CSV does not manipulate data and stores it as-is. Excel also allows the user the add-in feature."
   ]
  },
  {
   "cell_type": "markdown",
   "id": "0d46156c",
   "metadata": {},
   "source": [
    "Q 2 :What do you pass to csv.reader() and csv.writer() to create reader and writer objects?"
   ]
  },
  {
   "cell_type": "markdown",
   "id": "38569934",
   "metadata": {},
   "source": [
    "ans : "
   ]
  },
  {
   "cell_type": "markdown",
   "id": "351a711a",
   "metadata": {},
   "source": [
    "The csv. writer(csvfile, dialect='excel', **fmtparams) method, which is similar to the reader method we described above, is a method that permits us to write data to a file in CSV format. This method takes the following parameters: csvfile : Any object with a write() method, which in this case is usually a file object."
   ]
  },
  {
   "cell_type": "markdown",
   "id": "9f34b1a5",
   "metadata": {},
   "source": [
    "Q 3 : What modes do File objects for reader and writer objects need to be opened in?"
   ]
  },
  {
   "cell_type": "markdown",
   "id": "386099b5",
   "metadata": {},
   "source": [
    "ans : "
   ]
  },
  {
   "cell_type": "code",
   "execution_count": 1,
   "id": "a5cb5202",
   "metadata": {},
   "outputs": [],
   "source": [
    "# \"r\",\"w\",\"a\",\"r+\",\"w+\",\"a+\",\"rb\",\"wb\",\"ab\",\"rb+\",\"wb+\",\"ab+\" are the modes of file objects for reader and writer objects need to opened in .   "
   ]
  },
  {
   "cell_type": "markdown",
   "id": "c73da108",
   "metadata": {},
   "source": [
    "Q 4 : What method takes a list argument and writes it to a CSV file?"
   ]
  },
  {
   "cell_type": "markdown",
   "id": "0c77e776",
   "metadata": {},
   "source": [
    "ans : "
   ]
  },
  {
   "cell_type": "markdown",
   "id": "329d545a",
   "metadata": {},
   "source": [
    "writerows(),\n",
    "This function takes a list of iterables as parameter and writes each item as a comma separated line of items in the file."
   ]
  },
  {
   "cell_type": "markdown",
   "id": "5106aeab",
   "metadata": {},
   "source": [
    "Q 5 : What do the keyword arguments delimiter and line terminator do?"
   ]
  },
  {
   "cell_type": "markdown",
   "id": "6f57abd5",
   "metadata": {},
   "source": [
    "ans : "
   ]
  },
  {
   "cell_type": "markdown",
   "id": "85cd5eaa",
   "metadata": {},
   "source": [
    "The delimiter is the character that appears between cells on a row. By default, the delimiter for a CSV file is a comma. The line terminator is the character that comes at the end of a row. By default, the line terminator is a newline."
   ]
  },
  {
   "cell_type": "markdown",
   "id": "ea9c3967",
   "metadata": {},
   "source": [
    "Q 6 : What function takes a string of JSON data and returns a Python data structure?"
   ]
  },
  {
   "cell_type": "markdown",
   "id": "ab5cae94",
   "metadata": {},
   "source": [
    "ans : "
   ]
  },
  {
   "cell_type": "markdown",
   "id": "9db8fb9d",
   "metadata": {},
   "source": [
    "loads() method return Python data structure of JSON string or data."
   ]
  },
  {
   "cell_type": "markdown",
   "id": "c6233d6e",
   "metadata": {},
   "source": [
    "Q 7 : What function takes a Python data structure and returns a string of JSON data?"
   ]
  },
  {
   "cell_type": "markdown",
   "id": "2451c944",
   "metadata": {},
   "source": [
    "ans : "
   ]
  },
  {
   "cell_type": "code",
   "execution_count": null,
   "id": "59a210d4",
   "metadata": {},
   "outputs": [],
   "source": [
    "Approach:\n",
    "Import module.\n",
    "Create a Function.\n",
    "Create a Dictionary.\n",
    "Convert Dictionary to JSON Object Using dumps() method.\n",
    "Return JSON Object."
   ]
  },
  {
   "cell_type": "code",
   "execution_count": null,
   "id": "f3100245",
   "metadata": {},
   "outputs": [],
   "source": []
  }
 ],
 "metadata": {
  "kernelspec": {
   "display_name": "Python 3 (ipykernel)",
   "language": "python",
   "name": "python3"
  },
  "language_info": {
   "codemirror_mode": {
    "name": "ipython",
    "version": 3
   },
   "file_extension": ".py",
   "mimetype": "text/x-python",
   "name": "python",
   "nbconvert_exporter": "python",
   "pygments_lexer": "ipython3",
   "version": "3.9.12"
  }
 },
 "nbformat": 4,
 "nbformat_minor": 5
}
