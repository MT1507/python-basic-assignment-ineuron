{
 "cells": [
  {
   "cell_type": "markdown",
   "id": "b3f46866",
   "metadata": {},
   "source": [
    "Q 1 : What does RGBA stand for?"
   ]
  },
  {
   "cell_type": "markdown",
   "id": "c82d75d4",
   "metadata": {},
   "source": [
    "ans : "
   ]
  },
  {
   "cell_type": "markdown",
   "id": "24b8e5bf",
   "metadata": {},
   "source": [
    "RGBA color values are an extension of RGB color values with an alpha channel - which specifies the opacity for a color. An RGBA color value is specified with: rgba(red, green, blue, alpha). The alpha parameter is a number between 0.0 (fully transparent) and 1.0 (fully opaque)."
   ]
  },
  {
   "cell_type": "markdown",
   "id": "2efaebc5",
   "metadata": {},
   "source": [
    "Q 2 : From the Pillow module, how do you get the RGBA value of any images?"
   ]
  },
  {
   "cell_type": "markdown",
   "id": "109560d3",
   "metadata": {},
   "source": [
    "ans : "
   ]
  },
  {
   "cell_type": "markdown",
   "id": "7f3b5fb6",
   "metadata": {},
   "source": [
    "import the Image module from the Pillow library from PIL import Image.\n",
    "Open any image and get the RAGBAG values. \n",
    "img = Image.open('image.png') \n",
    "rgba = img.convert(“RGBA”)"
   ]
  },
  {
   "cell_type": "markdown",
   "id": "5a6ba3f8",
   "metadata": {},
   "source": [
    "Q 3 :What is a box tuple, and how does it work?"
   ]
  },
  {
   "cell_type": "markdown",
   "id": "63475a33",
   "metadata": {},
   "source": [
    "ans : "
   ]
  },
  {
   "cell_type": "markdown",
   "id": "01c20e12",
   "metadata": {},
   "source": [
    "Many of Pillow's functions and methods take a box tuple argument. This means Pillow is expecting a tuple of four integer coordinates that represent a rectangular region in an image."
   ]
  },
  {
   "cell_type": "markdown",
   "id": "522fb000",
   "metadata": {},
   "source": [
    "Q 4 : Use your image and load in notebook then, How can you find out the width and height of an\n",
    "Image object?"
   ]
  },
  {
   "cell_type": "markdown",
   "id": "7e6c2a89",
   "metadata": {},
   "source": [
    "ans :"
   ]
  },
  {
   "cell_type": "markdown",
   "id": "544a9590",
   "metadata": {},
   "source": [
    "from PIL import Image\n",
    "  \n",
    "# get image\n",
    "filepath = \"alibaba.png\"\n",
    "img = Image.open(filepath)\n",
    "  \n",
    "# get width and height\n",
    "width = img.width\n",
    "height = img.height\n",
    "print(\"The height of the image is: \", height)\n",
    "print(\"The width of the image is: \", width)"
   ]
  },
  {
   "cell_type": "markdown",
   "id": "c82718e0",
   "metadata": {},
   "source": [
    "Q 5 : What method would you call to get Image object for a 100×100 image, excluding the lower-left\n",
    "quarter of it?"
   ]
  },
  {
   "cell_type": "markdown",
   "id": "70d7c23f",
   "metadata": {},
   "source": [
    "ans :"
   ]
  },
  {
   "cell_type": "markdown",
   "id": "167e3a31",
   "metadata": {},
   "source": [
    "The image processing library Pillow (PIL) of Python provides Image. crop() for cutting out a partial area of an image."
   ]
  },
  {
   "cell_type": "markdown",
   "id": "984ede2c",
   "metadata": {},
   "source": [
    "Q 6 : After making changes to an Image object, how could you save it as an image file?"
   ]
  },
  {
   "cell_type": "markdown",
   "id": "f61fc420",
   "metadata": {},
   "source": [
    "ans : "
   ]
  },
  {
   "cell_type": "markdown",
   "id": "8aadf461",
   "metadata": {},
   "source": [
    "The PIL module is used for storing, processing, and displaying images in Python. To save images, we can use the PIL. save() function. This function is used to export an image to an external file."
   ]
  },
  {
   "cell_type": "markdown",
   "id": "64d00251",
   "metadata": {},
   "source": [
    "Q 7 :What module contains Pillow’s shape-drawing code?"
   ]
  },
  {
   "cell_type": "markdown",
   "id": "0b0ea15e",
   "metadata": {},
   "source": [
    "ans :"
   ]
  },
  {
   "cell_type": "markdown",
   "id": "46da1ab0",
   "metadata": {},
   "source": [
    "The 'ImageDraw' module provides simple 2D graphics support for Image Object. Generally, we use this module to create new images, annotate or retouch existing images and to generate graphics on the fly for web use. The graphics commands support the drawing of shapes and annotation of text."
   ]
  },
  {
   "cell_type": "markdown",
   "id": "eac3622d",
   "metadata": {},
   "source": []
  },
  {
   "cell_type": "markdown",
   "id": "8738f162",
   "metadata": {},
   "source": [
    " "
   ]
  },
  {
   "cell_type": "code",
   "execution_count": null,
   "id": "074294d5",
   "metadata": {},
   "outputs": [],
   "source": []
  },
  {
   "cell_type": "code",
   "execution_count": null,
   "id": "f2aacc58",
   "metadata": {},
   "outputs": [],
   "source": []
  }
 ],
 "metadata": {
  "kernelspec": {
   "display_name": "Python 3 (ipykernel)",
   "language": "python",
   "name": "python3"
  },
  "language_info": {
   "codemirror_mode": {
    "name": "ipython",
    "version": 3
   },
   "file_extension": ".py",
   "mimetype": "text/x-python",
   "name": "python",
   "nbconvert_exporter": "python",
   "pygments_lexer": "ipython3",
   "version": "3.9.12"
  }
 },
 "nbformat": 4,
 "nbformat_minor": 5
}
