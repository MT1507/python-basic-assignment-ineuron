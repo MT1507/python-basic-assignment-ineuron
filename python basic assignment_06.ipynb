{
 "cells": [
  {
   "cell_type": "markdown",
   "id": "f47b2721",
   "metadata": {},
   "source": [
    "Q 1 : What are escape characters, and how do you use them?"
   ]
  },
  {
   "cell_type": "markdown",
   "id": "e3f61074",
   "metadata": {},
   "source": [
    "ans :"
   ]
  },
  {
   "cell_type": "markdown",
   "id": "3b567123",
   "metadata": {},
   "source": [
    "In Python strings, the backslash “ ” is a special character, also called the “escape” character. It is used in representing certain whitespace characters: “\\t” is a tab, “\\n” is a new line, and “\\r” is a carriage return. Finally, “ ” can be used to escape itself: “\\” is the literal backslash character."
   ]
  },
  {
   "cell_type": "markdown",
   "id": "86e5b11a",
   "metadata": {},
   "source": [
    "Q 2 : What do the escape characters n and t stand for?"
   ]
  },
  {
   "cell_type": "markdown",
   "id": "bfe1bd08",
   "metadata": {},
   "source": [
    "ans :"
   ]
  },
  {
   "cell_type": "markdown",
   "id": "c51ee084",
   "metadata": {},
   "source": [
    "\\n and \\t are used for  representing certain whitespace characters."
   ]
  },
  {
   "cell_type": "markdown",
   "id": "3aec6ca5",
   "metadata": {},
   "source": [
    "\\n stands for new line after the end of existing line  and \\t stands for tab means 4 whitespaces between two characters"
   ]
  },
  {
   "cell_type": "markdown",
   "id": "6d68d8a8",
   "metadata": {},
   "source": [
    "Q 3 : What is the way to include backslash characters in a string?"
   ]
  },
  {
   "cell_type": "markdown",
   "id": "b9ac7b36",
   "metadata": {},
   "source": [
    "ans :"
   ]
  },
  {
   "cell_type": "markdown",
   "id": "583dd866",
   "metadata": {},
   "source": [
    "Use the syntax \"\\\\\\\\\" within the string literal to represent a single backslash."
   ]
  },
  {
   "cell_type": "markdown",
   "id": "5696454c",
   "metadata": {},
   "source": [
    "Q 4 : The string &quot;Howl&#39;s Moving Castle&quot; is a correct value. Why isn&#39;t the single quote character in the\n",
    "word Howl&#39;s not escaped a problem?"
   ]
  },
  {
   "cell_type": "markdown",
   "id": "24631df7",
   "metadata": {},
   "source": [
    "ans :"
   ]
  },
  {
   "cell_type": "code",
   "execution_count": 1,
   "id": "83b3d3b3",
   "metadata": {},
   "outputs": [
    {
     "data": {
      "text/plain": [
       "\"Howl's Moving Castle\""
      ]
     },
     "execution_count": 1,
     "metadata": {},
     "output_type": "execute_result"
    }
   ],
   "source": [
    "\"Howl's Moving Castle\" "
   ]
  },
  {
   "cell_type": "markdown",
   "id": "0fa999f6",
   "metadata": {},
   "source": [
    "The string value \"Howl's Moving Castle\" is a valid string. Why isn't it a problem that the single quote character in the word Howl's isn't escaped? The single quote in Howl's is fine because you've used double quotes to mark the beginning and end of the string."
   ]
  },
  {
   "cell_type": "markdown",
   "id": "76b392b3",
   "metadata": {},
   "source": [
    "Q 5 : How do you write a string of newlines if you don&#39;t want to use the n character?"
   ]
  },
  {
   "cell_type": "markdown",
   "id": "83f7c33c",
   "metadata": {},
   "source": [
    "ans :"
   ]
  },
  {
   "cell_type": "markdown",
   "id": "ba41372d",
   "metadata": {},
   "source": [
    "In order to print without newline in Python, you need to add an extra argument to your print function that will tell the program that you don't want your next string to be on a new line. Here's an example: print(\"Hello there!\", end = '') print(\"It is a great day.\")"
   ]
  },
  {
   "cell_type": "code",
   "execution_count": 2,
   "id": "03512619",
   "metadata": {},
   "outputs": [
    {
     "name": "stdout",
     "output_type": "stream",
     "text": [
      "Hello there!It is a great day.\n"
     ]
    }
   ],
   "source": [
    "print(\"Hello there!\",end = \"\") \n",
    "print(\"It is a great day.\")"
   ]
  },
  {
   "cell_type": "markdown",
   "id": "45cba8e5",
   "metadata": {},
   "source": [
    "Q 6 : What are the values of the given expressions?"
   ]
  },
  {
   "cell_type": "markdown",
   "id": "61259e7a",
   "metadata": {},
   "source": [
    "'Hello,world!'[1]"
   ]
  },
  {
   "cell_type": "markdown",
   "id": "7f567555",
   "metadata": {},
   "source": [
    "'Hello,world!'[0:5]"
   ]
  },
  {
   "cell_type": "markdown",
   "id": "62ead42d",
   "metadata": {},
   "source": [
    "'Hello,world!'[:5]"
   ]
  },
  {
   "cell_type": "markdown",
   "id": "b31b6254",
   "metadata": {},
   "source": [
    "'Hello,world!'[3:]"
   ]
  },
  {
   "cell_type": "markdown",
   "id": "5a5ec77b",
   "metadata": {},
   "source": [
    "ans :"
   ]
  },
  {
   "cell_type": "code",
   "execution_count": 3,
   "id": "69bf50b6",
   "metadata": {},
   "outputs": [
    {
     "data": {
      "text/plain": [
       "'e'"
      ]
     },
     "execution_count": 3,
     "metadata": {},
     "output_type": "execute_result"
    }
   ],
   "source": [
    "'Hello,world!'[1]"
   ]
  },
  {
   "cell_type": "code",
   "execution_count": 4,
   "id": "61e8a4df",
   "metadata": {},
   "outputs": [
    {
     "data": {
      "text/plain": [
       "'Hello'"
      ]
     },
     "execution_count": 4,
     "metadata": {},
     "output_type": "execute_result"
    }
   ],
   "source": [
    "'Hello,world!'[0:5]"
   ]
  },
  {
   "cell_type": "code",
   "execution_count": 5,
   "id": "cba701cb",
   "metadata": {},
   "outputs": [
    {
     "data": {
      "text/plain": [
       "'Hello'"
      ]
     },
     "execution_count": 5,
     "metadata": {},
     "output_type": "execute_result"
    }
   ],
   "source": [
    "'Hello,world!'[:5]"
   ]
  },
  {
   "cell_type": "code",
   "execution_count": 36,
   "id": "0dd3ad72",
   "metadata": {},
   "outputs": [
    {
     "data": {
      "text/plain": [
       "'lo,world!'"
      ]
     },
     "execution_count": 36,
     "metadata": {},
     "output_type": "execute_result"
    }
   ],
   "source": [
    "'Hello,world!'[3:]"
   ]
  },
  {
   "cell_type": "markdown",
   "id": "13e388be",
   "metadata": {},
   "source": [
    "Q 7 : What are the values of the following expressions?"
   ]
  },
  {
   "cell_type": "markdown",
   "id": "d606b233",
   "metadata": {},
   "source": [
    "'Hello'.upper()"
   ]
  },
  {
   "cell_type": "markdown",
   "id": "5d32ab24",
   "metadata": {},
   "source": [
    "'Hello'.upper().isupper()"
   ]
  },
  {
   "cell_type": "markdown",
   "id": "98ae3abb",
   "metadata": {},
   "source": [
    "'Hello'.upper().lower()"
   ]
  },
  {
   "cell_type": "markdown",
   "id": "e487e471",
   "metadata": {},
   "source": [
    "ans :"
   ]
  },
  {
   "cell_type": "code",
   "execution_count": 6,
   "id": "da6d988e",
   "metadata": {},
   "outputs": [
    {
     "data": {
      "text/plain": [
       "'HELLO'"
      ]
     },
     "execution_count": 6,
     "metadata": {},
     "output_type": "execute_result"
    }
   ],
   "source": [
    "'Hello'.upper()"
   ]
  },
  {
   "cell_type": "code",
   "execution_count": 7,
   "id": "092392ca",
   "metadata": {},
   "outputs": [
    {
     "data": {
      "text/plain": [
       "True"
      ]
     },
     "execution_count": 7,
     "metadata": {},
     "output_type": "execute_result"
    }
   ],
   "source": [
    "'Hello'.upper().isupper()"
   ]
  },
  {
   "cell_type": "code",
   "execution_count": 8,
   "id": "f944f213",
   "metadata": {},
   "outputs": [
    {
     "data": {
      "text/plain": [
       "'hello'"
      ]
     },
     "execution_count": 8,
     "metadata": {},
     "output_type": "execute_result"
    }
   ],
   "source": [
    "'Hello'.upper().lower()"
   ]
  },
  {
   "cell_type": "markdown",
   "id": "675ed6a6",
   "metadata": {},
   "source": [
    "Q 8 : What are the values of the following expressions?"
   ]
  },
  {
   "cell_type": "markdown",
   "id": "26fec234",
   "metadata": {},
   "source": [
    "'Remember,remember,the fifth of july.'.split()"
   ]
  },
  {
   "cell_type": "markdown",
   "id": "e49b11a3",
   "metadata": {},
   "source": [
    "'-'.join('There can only one.'.split())"
   ]
  },
  {
   "cell_type": "markdown",
   "id": "a736eb24",
   "metadata": {},
   "source": [
    "ans :"
   ]
  },
  {
   "cell_type": "code",
   "execution_count": 9,
   "id": "b3c2fd99",
   "metadata": {},
   "outputs": [
    {
     "data": {
      "text/plain": [
       "['Remember,remember,the', 'fifth', 'of', 'july.']"
      ]
     },
     "execution_count": 9,
     "metadata": {},
     "output_type": "execute_result"
    }
   ],
   "source": [
    "'Remember,remember,the fifth of july.'.split()"
   ]
  },
  {
   "cell_type": "code",
   "execution_count": 10,
   "id": "62375395",
   "metadata": {},
   "outputs": [
    {
     "data": {
      "text/plain": [
       "'There-can-only-one.'"
      ]
     },
     "execution_count": 10,
     "metadata": {},
     "output_type": "execute_result"
    }
   ],
   "source": [
    "'-'.join('There can only one.'.split())"
   ]
  },
  {
   "cell_type": "markdown",
   "id": "dc301e1c",
   "metadata": {},
   "source": [
    "Q 9 : What are the methods for right-justifying, left-justifying, and centering a string?"
   ]
  },
  {
   "cell_type": "markdown",
   "id": "fc4c3401",
   "metadata": {},
   "source": [
    "ans :"
   ]
  },
  {
   "cell_type": "markdown",
   "id": "242501ec",
   "metadata": {},
   "source": [
    "if a = 123"
   ]
  },
  {
   "cell_type": "markdown",
   "id": "a3c3f8d9",
   "metadata": {},
   "source": [
    "a.rjust(5),a.ljust(5) and a.center()  are the methods for right-justifying, left-justifying, and centering a string."
   ]
  },
  {
   "cell_type": "markdown",
   "id": "7aa6bdad",
   "metadata": {},
   "source": [
    "Q 10 : What is the best way to remove whitespace characters from the start or end?"
   ]
  },
  {
   "cell_type": "markdown",
   "id": "e3b91db4",
   "metadata": {},
   "source": [
    "ans :"
   ]
  },
  {
   "cell_type": "markdown",
   "id": "ef15b993",
   "metadata": {},
   "source": [
    ".lstrip() and .rstrip() are the best way to remove whitespace characters from the start or end."
   ]
  },
  {
   "cell_type": "code",
   "execution_count": null,
   "id": "c7da0d7b",
   "metadata": {},
   "outputs": [],
   "source": []
  },
  {
   "cell_type": "code",
   "execution_count": null,
   "id": "7e759b11",
   "metadata": {},
   "outputs": [],
   "source": []
  }
 ],
 "metadata": {
  "kernelspec": {
   "display_name": "Python 3 (ipykernel)",
   "language": "python",
   "name": "python3"
  },
  "language_info": {
   "codemirror_mode": {
    "name": "ipython",
    "version": 3
   },
   "file_extension": ".py",
   "mimetype": "text/x-python",
   "name": "python",
   "nbconvert_exporter": "python",
   "pygments_lexer": "ipython3",
   "version": "3.9.7"
  }
 },
 "nbformat": 4,
 "nbformat_minor": 5
}
