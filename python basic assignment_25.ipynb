{
 "cells": [
  {
   "cell_type": "markdown",
   "id": "8f8393f8",
   "metadata": {},
   "source": [
    "Q 1) . What is the difference between enclosing a list comprehension in square brackets and parentheses?"
   ]
  },
  {
   "cell_type": "markdown",
   "id": "8fdc934d",
   "metadata": {},
   "source": [
    "ans : "
   ]
  },
  {
   "cell_type": "markdown",
   "id": "eca685e0",
   "metadata": {},
   "source": [
    "Brackets are used to make lists Braces are used to make dictionary Parenthesis are used to make tuple But for indexing in all of those, only brackets are used."
   ]
  },
  {
   "cell_type": "markdown",
   "id": "36c9056d",
   "metadata": {},
   "source": [
    "Q 2) What is the relationship between generators and iterators?"
   ]
  },
  {
   "cell_type": "markdown",
   "id": "56ba6e49",
   "metadata": {},
   "source": [
    "ans : "
   ]
  },
  {
   "cell_type": "markdown",
   "id": "0deb264f",
   "metadata": {},
   "source": [
    "Iterators are objects which use the next() method to get the following values of a sequence. Generators are functions that produce or yield a sequence of values using the yield keyword."
   ]
  },
  {
   "cell_type": "markdown",
   "id": "be569777",
   "metadata": {},
   "source": [
    "Q 3) What are the signs that a function is a generator function?"
   ]
  },
  {
   "cell_type": "markdown",
   "id": "ec2ff789",
   "metadata": {},
   "source": [
    "ans :"
   ]
  },
  {
   "cell_type": "markdown",
   "id": "44b92be4",
   "metadata": {},
   "source": [
    "A generator is a special type of function which does not return a single value, instead, it returns an iterator object with a sequence of values. In a generator function, a yield statement is used rather than a return statement. The following is a simple generator function.\n"
   ]
  },
  {
   "cell_type": "markdown",
   "id": "2117b1ac",
   "metadata": {},
   "source": [
    "Q 4) What is the purpose of a yield statement?"
   ]
  },
  {
   "cell_type": "markdown",
   "id": "7046e31c",
   "metadata": {},
   "source": [
    "ans :"
   ]
  },
  {
   "cell_type": "markdown",
   "id": "ad2e9ac0",
   "metadata": {},
   "source": [
    "The yield statement returns a generator object to the one who calls the function which contains yield, instead of simply returning a value."
   ]
  },
  {
   "cell_type": "markdown",
   "id": "9fb1a308",
   "metadata": {},
   "source": [
    "Q 5) What is the relationship between map calls and list comprehensions? Make a comparison and\n",
    "contrast between the two."
   ]
  },
  {
   "cell_type": "markdown",
   "id": "8c4558d1",
   "metadata": {},
   "source": [
    "\n",
    "ans : "
   ]
  },
  {
   "cell_type": "markdown",
   "id": "d4b6e9be",
   "metadata": {},
   "source": [
    "List comprehension is more concise and easier to read as compared to map. List comprehension are used when a list of results is required as map only returns a map object and does not return any list. Map is faster in case of calling an already defined function (as no lambda is required)."
   ]
  },
  {
   "cell_type": "code",
   "execution_count": null,
   "id": "e7c8e235",
   "metadata": {},
   "outputs": [],
   "source": []
  }
 ],
 "metadata": {
  "kernelspec": {
   "display_name": "Python 3 (ipykernel)",
   "language": "python",
   "name": "python3"
  },
  "language_info": {
   "codemirror_mode": {
    "name": "ipython",
    "version": 3
   },
   "file_extension": ".py",
   "mimetype": "text/x-python",
   "name": "python",
   "nbconvert_exporter": "python",
   "pygments_lexer": "ipython3",
   "version": "3.9.12"
  }
 },
 "nbformat": 4,
 "nbformat_minor": 5
}
