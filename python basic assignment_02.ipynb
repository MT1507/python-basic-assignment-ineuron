{
 "cells": [
  {
   "cell_type": "markdown",
   "id": "3edde383",
   "metadata": {},
   "source": [
    "question 1 :"
   ]
  },
  {
   "cell_type": "markdown",
   "id": "0152d42f",
   "metadata": {},
   "source": [
    "What are the two values of the Boolean data type? How do you write them?"
   ]
  },
  {
   "cell_type": "markdown",
   "id": "b47ef332",
   "metadata": {},
   "source": [
    "Answer :"
   ]
  },
  {
   "cell_type": "markdown",
   "id": "3671d4d2",
   "metadata": {},
   "source": [
    "1)There are two boolean datatype values : True and False \n",
    "  2)We can evaluate values and variables using the Python bool() function.                                                  We can also evaluate expression without using the bool() function also. The Booleans values will be returned as a result of some sort of comparison. "
   ]
  },
  {
   "cell_type": "markdown",
   "id": "f46b0e74",
   "metadata": {},
   "source": [
    "question 2 :"
   ]
  },
  {
   "cell_type": "markdown",
   "id": "978be53f",
   "metadata": {},
   "source": [
    "What are the three different types of Boolean operators?"
   ]
  },
  {
   "cell_type": "markdown",
   "id": "6f3329a4",
   "metadata": {},
   "source": [
    "Answer :"
   ]
  },
  {
   "cell_type": "markdown",
   "id": "f079f93c",
   "metadata": {},
   "source": [
    "There are three basic boolean operators are: AND, OR, and NOT."
   ]
  },
  {
   "cell_type": "markdown",
   "id": "a6b15525",
   "metadata": {},
   "source": [
    "question 3 :"
   ]
  },
  {
   "cell_type": "markdown",
   "id": "a4796514",
   "metadata": {},
   "source": [
    "Make a list of each Boolean operator's truth tables (i.e. every possible combination of Boolean\n",
    "values for the operator and what it evaluate )."
   ]
  },
  {
   "cell_type": "markdown",
   "id": "5ae9abb6",
   "metadata": {},
   "source": [
    "Answer:"
   ]
  },
  {
   "cell_type": "code",
   "execution_count": 14,
   "id": "de4689c9",
   "metadata": {},
   "outputs": [],
   "source": [
    "# Truth table for Boolean operator  : AND \n",
    "\n",
    "# True and True = True.\n",
    "# True and False = False.\n",
    "# False and True = False.\n",
    "# False and False = False."
   ]
  },
  {
   "cell_type": "code",
   "execution_count": 15,
   "id": "dc017a55",
   "metadata": {},
   "outputs": [],
   "source": [
    "# Truth table for Boolean operator  : OR\n",
    "# True or True = True\n",
    "# True or False = True\n",
    "# False or True = True\n",
    "# False or False = False\n"
   ]
  },
  {
   "cell_type": "code",
   "execution_count": 16,
   "id": "177d7935",
   "metadata": {},
   "outputs": [],
   "source": [
    "# Truth table for Boolean operator  : NOT\n",
    "# not(True) = False\n",
    "# not(False) = True"
   ]
  },
  {
   "cell_type": "markdown",
   "id": "b2df4986",
   "metadata": {},
   "source": [
    "question 4 :"
   ]
  },
  {
   "cell_type": "code",
   "execution_count": 17,
   "id": "e47b9aef",
   "metadata": {},
   "outputs": [],
   "source": [
    "#  What are the values of the following expressions?\n",
    "# 1. (5 > 4) and (3 == 5)\n",
    "# 2.  not (5 > 4)\n",
    "# 3. (5 > 4) or (3 == 5)\n",
    "# 4. not ((5 > 4) or (3 == 5))\n",
    "# 5. (True and True) and (True == False)\n",
    "# 6. (not False) or (not True)alues of the following expressions?\n"
   ]
  },
  {
   "cell_type": "markdown",
   "id": "7079e0c3",
   "metadata": {},
   "source": [
    "Answer :"
   ]
  },
  {
   "cell_type": "code",
   "execution_count": 18,
   "id": "1e177b93",
   "metadata": {},
   "outputs": [
    {
     "data": {
      "text/plain": [
       "False"
      ]
     },
     "execution_count": 18,
     "metadata": {},
     "output_type": "execute_result"
    }
   ],
   "source": [
    "(5 > 4) and (3 == 5)"
   ]
  },
  {
   "cell_type": "code",
   "execution_count": 19,
   "id": "653185b1",
   "metadata": {},
   "outputs": [
    {
     "data": {
      "text/plain": [
       "False"
      ]
     },
     "execution_count": 19,
     "metadata": {},
     "output_type": "execute_result"
    }
   ],
   "source": [
    " not (5 > 4)"
   ]
  },
  {
   "cell_type": "code",
   "execution_count": 20,
   "id": "c61d5698",
   "metadata": {},
   "outputs": [
    {
     "data": {
      "text/plain": [
       "True"
      ]
     },
     "execution_count": 20,
     "metadata": {},
     "output_type": "execute_result"
    }
   ],
   "source": [
    "(5 > 4) or (3 == 5) "
   ]
  },
  {
   "cell_type": "code",
   "execution_count": 21,
   "id": "35f130dd",
   "metadata": {},
   "outputs": [
    {
     "data": {
      "text/plain": [
       "False"
      ]
     },
     "execution_count": 21,
     "metadata": {},
     "output_type": "execute_result"
    }
   ],
   "source": [
    "not ((5 > 4) or (3 == 5))"
   ]
  },
  {
   "cell_type": "code",
   "execution_count": 22,
   "id": "e8ab41af",
   "metadata": {},
   "outputs": [
    {
     "data": {
      "text/plain": [
       "False"
      ]
     },
     "execution_count": 22,
     "metadata": {},
     "output_type": "execute_result"
    }
   ],
   "source": [
    "(True and True) and (True == False)"
   ]
  },
  {
   "cell_type": "code",
   "execution_count": 23,
   "id": "3c7559eb",
   "metadata": {},
   "outputs": [
    {
     "data": {
      "text/plain": [
       "True"
      ]
     },
     "execution_count": 23,
     "metadata": {},
     "output_type": "execute_result"
    }
   ],
   "source": [
    "(not False) or (not True)"
   ]
  },
  {
   "cell_type": "code",
   "execution_count": 24,
   "id": "13750caf",
   "metadata": {},
   "outputs": [],
   "source": [
    "#       questions                            Answers \n",
    "# 1. (5 > 4) and (3 == 5)                : False\n",
    "# 2.  not (5 > 4)                        : False\n",
    "# 3. (5 > 4) or (3 == 5)                 : True\n",
    "# 4. not ((5 > 4) or (3 == 5))           : False \n",
    "# 5. (True and True) and (True == False) : False\n",
    "# 6. (not False) or (not True)           : True"
   ]
  },
  {
   "cell_type": "markdown",
   "id": "0e41417c",
   "metadata": {},
   "source": [
    "question 5 :"
   ]
  },
  {
   "cell_type": "markdown",
   "id": "8f3ed67b",
   "metadata": {},
   "source": [
    "What are the six comparison operators?"
   ]
  },
  {
   "cell_type": "markdown",
   "id": "bff4cc9a",
   "metadata": {},
   "source": [
    "Answer :"
   ]
  },
  {
   "cell_type": "code",
   "execution_count": 25,
   "id": "f2253e9f",
   "metadata": {},
   "outputs": [],
   "source": [
    "# six comparison operators are as follows :\n",
    "\n",
    "# Equal                    :  ==\n",
    "# Not Equal                : !=\n",
    "# Greater than             : >\n",
    "# less than                : <\n",
    "# Greater than or equal to : >=\n",
    "# less than or equal to    : <="
   ]
  },
  {
   "cell_type": "markdown",
   "id": "aac3ed4a",
   "metadata": {},
   "source": [
    "question 6 :"
   ]
  },
  {
   "cell_type": "markdown",
   "id": "2443d255",
   "metadata": {},
   "source": [
    "How do you tell the difference between the equal to and assignment operators?Describe a\n",
    "condition and when you would use one."
   ]
  },
  {
   "cell_type": "markdown",
   "id": "92cdfa80",
   "metadata": {},
   "source": [
    "Answer :"
   ]
  },
  {
   "cell_type": "markdown",
   "id": "90537fb9",
   "metadata": {},
   "source": [
    "In Python languages, a single equal mark is used to assign a value to a variable, whereas two consecutive equal marks is used to check whether 2 expressions give the same value .\n"
   ]
  },
  {
   "cell_type": "code",
   "execution_count": 26,
   "id": "049d9448",
   "metadata": {},
   "outputs": [
    {
     "name": "stdout",
     "output_type": "stream",
     "text": [
      "2\n"
     ]
    }
   ],
   "source": [
    "# Example 1:\n",
    "a = 2\n",
    "print(a)"
   ]
  },
  {
   "cell_type": "code",
   "execution_count": 27,
   "id": "a3906c7c",
   "metadata": {},
   "outputs": [
    {
     "name": "stdout",
     "output_type": "stream",
     "text": [
      "Answer for a==b :  False\n",
      "Answer for a==c :  True\n"
     ]
    }
   ],
   "source": [
    "# Example 2 :\n",
    "a = 2\n",
    "b = 3\n",
    "c = 2\n",
    "print(\"Answer for a==b : \",a == b)\n",
    "print(\"Answer for a==c : \",a == c)"
   ]
  },
  {
   "cell_type": "markdown",
   "id": "5a26dfec",
   "metadata": {},
   "source": [
    "from example 1 ,we see that variable (a) assign  value (2) using single equal mark "
   ]
  },
  {
   "cell_type": "markdown",
   "id": "57379080",
   "metadata": {},
   "source": [
    "And in example 2 , after we  assigned values to the variables  == sign did a comparison between two values .when we write  a == b then Interpreter gives a result as False because it compare value of variable a  and  value of variable b and it conclude that both are not same .\n",
    "And after that when we write a ==c then interpreter gives a result as True because interpreter compare value of variable a and value of variable c and it understood that both are same"
   ]
  },
  {
   "cell_type": "markdown",
   "id": "05c67aa5",
   "metadata": {},
   "source": [
    "question 7 :"
   ]
  },
  {
   "cell_type": "code",
   "execution_count": 28,
   "id": "4e160a97",
   "metadata": {},
   "outputs": [],
   "source": [
    "# Identify the three blocks in this code:\n",
    "# spam = 0\n",
    "# if spam == 10:\n",
    "# print('eggs')\n",
    "# if spam > 5:\n",
    "# print('bacon')\n",
    "# else:\n",
    "# print('ham')\n",
    "# print('spam')\n",
    "# print('spam')"
   ]
  },
  {
   "cell_type": "markdown",
   "id": "dd5539ee",
   "metadata": {},
   "source": [
    "Answer :"
   ]
  },
  {
   "cell_type": "code",
   "execution_count": 29,
   "id": "f90a2080",
   "metadata": {},
   "outputs": [
    {
     "name": "stdout",
     "output_type": "stream",
     "text": [
      "ham\n",
      "spam\n",
      "spam\n"
     ]
    }
   ],
   "source": [
    "spam = 0\n",
    "if spam == 10:\n",
    "    print('eggs')\n",
    "if spam > 5:\n",
    "    print('bacon')\n",
    "else:\n",
    "    print('ham')\n",
    "    print('spam')\n",
    "    print('spam')"
   ]
  },
  {
   "cell_type": "markdown",
   "id": "fe4c7c29",
   "metadata": {},
   "source": [
    "In above example , 2 if blocks and 1 else block that are the 3 blocks in code "
   ]
  },
  {
   "cell_type": "markdown",
   "id": "690f406e",
   "metadata": {},
   "source": [
    "question 8 :"
   ]
  },
  {
   "cell_type": "markdown",
   "id": "cf1cd140",
   "metadata": {},
   "source": [
    "Write code that prints Hello if 1 is stored in spam, prints Howdy if 2 is stored in spam, and prints\n",
    "Greetings! if anything else is stored in spam."
   ]
  },
  {
   "cell_type": "markdown",
   "id": "c2792966",
   "metadata": {},
   "source": [
    "Answer :"
   ]
  },
  {
   "cell_type": "code",
   "execution_count": 31,
   "id": "2ca8bdf9",
   "metadata": {},
   "outputs": [
    {
     "name": "stdout",
     "output_type": "stream",
     "text": [
      "1\n",
      "hallo\n"
     ]
    }
   ],
   "source": [
    "spam = int(input())\n",
    "\n",
    "if spam == 1:\n",
    "    print(\"hallo\")\n",
    "elif spam == 2:\n",
    "    print(\"howdy\")\n",
    "else :\n",
    "    print(\"Greetings!\")"
   ]
  },
  {
   "cell_type": "markdown",
   "id": "26c9bb30",
   "metadata": {},
   "source": [
    "question 9"
   ]
  },
  {
   "cell_type": "markdown",
   "id": "45779e54",
   "metadata": {},
   "source": [
    "If your programme is stuck in an endless loop, what keys you’ll press?"
   ]
  },
  {
   "cell_type": "markdown",
   "id": "741936b1",
   "metadata": {},
   "source": [
    "Answer :"
   ]
  },
  {
   "cell_type": "markdown",
   "id": "1db161c6",
   "metadata": {},
   "source": [
    "if my programme is stuck in an endless loop , then i will press CTRL + C key"
   ]
  },
  {
   "cell_type": "markdown",
   "id": "f515a8eb",
   "metadata": {},
   "source": [
    "question 10:"
   ]
  },
  {
   "cell_type": "markdown",
   "id": "8c5d4e28",
   "metadata": {},
   "source": [
    "How can you tell the difference between break and continue?"
   ]
  },
  {
   "cell_type": "markdown",
   "id": "f9798c7a",
   "metadata": {},
   "source": [
    "Answer :"
   ]
  },
  {
   "cell_type": "markdown",
   "id": "659d143f",
   "metadata": {},
   "source": [
    "The main difference between both the statements is that when break keyword comes, it terminates the execution of the current loop and passes the control over the next loop or main body, whereas when continue keyword is encountered, it skips the current iteration and executes the very next iteration in the loop."
   ]
  },
  {
   "cell_type": "markdown",
   "id": "a2dd6a3a",
   "metadata": {},
   "source": [
    "question 11 :"
   ]
  },
  {
   "cell_type": "markdown",
   "id": "efebd5d8",
   "metadata": {},
   "source": [
    " In a for loop, what is the difference between range(10), range(0, 10), and range(0, 10, 1)?"
   ]
  },
  {
   "cell_type": "markdown",
   "id": "82d2d21a",
   "metadata": {},
   "source": [
    "Answer :"
   ]
  },
  {
   "cell_type": "code",
   "execution_count": 32,
   "id": "8955cb56",
   "metadata": {
    "scrolled": true
   },
   "outputs": [
    {
     "name": "stdout",
     "output_type": "stream",
     "text": [
      "0\n",
      "1\n",
      "2\n",
      "3\n",
      "4\n",
      "5\n",
      "6\n",
      "7\n",
      "8\n",
      "9\n"
     ]
    }
   ],
   "source": [
    "for i in range(10) :\n",
    "    print(i)"
   ]
  },
  {
   "cell_type": "code",
   "execution_count": 33,
   "id": "11837ebe",
   "metadata": {},
   "outputs": [
    {
     "name": "stdout",
     "output_type": "stream",
     "text": [
      "0\n",
      "1\n",
      "2\n",
      "3\n",
      "4\n",
      "5\n",
      "6\n",
      "7\n",
      "8\n",
      "9\n"
     ]
    }
   ],
   "source": [
    "for i in range(0,10):\n",
    "    print(i)"
   ]
  },
  {
   "cell_type": "code",
   "execution_count": 34,
   "id": "bad40d5c",
   "metadata": {},
   "outputs": [
    {
     "name": "stdout",
     "output_type": "stream",
     "text": [
      "0\n",
      "1\n",
      "2\n",
      "3\n",
      "4\n",
      "5\n",
      "6\n",
      "7\n",
      "8\n",
      "9\n"
     ]
    }
   ],
   "source": [
    "for i in range(0,10,1):\n",
    "    print(i)"
   ]
  },
  {
   "cell_type": "markdown",
   "id": "ada64742",
   "metadata": {},
   "source": [
    "from above example ,we conclude that range(10) , range(0,10) , range(0,10,1) have same execution"
   ]
  },
  {
   "cell_type": "markdown",
   "id": "06fe51b0",
   "metadata": {},
   "source": [
    "question 12 :"
   ]
  },
  {
   "cell_type": "markdown",
   "id": "b51f73c3",
   "metadata": {},
   "source": [
    " Write a short program that prints the numbers 1 to 10 using a for loop. Then write an equivalent\n",
    "program that prints the numbers 1 to 10 using a while loop."
   ]
  },
  {
   "cell_type": "markdown",
   "id": "7caa032b",
   "metadata": {},
   "source": [
    "Answer :"
   ]
  },
  {
   "cell_type": "code",
   "execution_count": 35,
   "id": "f37a04cd",
   "metadata": {},
   "outputs": [
    {
     "name": "stdout",
     "output_type": "stream",
     "text": [
      "1\n",
      "2\n",
      "3\n",
      "4\n",
      "5\n",
      "6\n",
      "7\n",
      "8\n",
      "9\n",
      "10\n"
     ]
    }
   ],
   "source": [
    "for i in range(1,11):\n",
    "    print(i)"
   ]
  },
  {
   "cell_type": "code",
   "execution_count": 36,
   "id": "b1b8543f",
   "metadata": {},
   "outputs": [
    {
     "name": "stdout",
     "output_type": "stream",
     "text": [
      "1\n",
      "2\n",
      "3\n",
      "4\n",
      "5\n",
      "6\n",
      "7\n",
      "8\n",
      "9\n",
      "10\n"
     ]
    }
   ],
   "source": [
    "a = 0\n",
    "while a >= 0:\n",
    "    a += 1\n",
    "    if a == 11:\n",
    "        break\n",
    "    print(a)"
   ]
  },
  {
   "cell_type": "markdown",
   "id": "bbced571",
   "metadata": {},
   "source": [
    "question 13 :"
   ]
  },
  {
   "cell_type": "markdown",
   "id": "e55e30fb",
   "metadata": {},
   "source": [
    "If you had a function named bacon() inside a module named spam, how would you call it after\n",
    "importing spam?"
   ]
  },
  {
   "cell_type": "markdown",
   "id": "429a7e24",
   "metadata": {},
   "source": [
    "Answer :"
   ]
  },
  {
   "cell_type": "markdown",
   "id": "02be54b3",
   "metadata": {},
   "source": [
    "After importing module spam i have to create object of object of class which is already created in module spam .\n",
    "Then i have to call object.function , for final result.  "
   ]
  },
  {
   "cell_type": "code",
   "execution_count": null,
   "id": "51cb8464",
   "metadata": {},
   "outputs": [],
   "source": []
  }
 ],
 "metadata": {
  "kernelspec": {
   "display_name": "Python 3 (ipykernel)",
   "language": "python",
   "name": "python3"
  },
  "language_info": {
   "codemirror_mode": {
    "name": "ipython",
    "version": 3
   },
   "file_extension": ".py",
   "mimetype": "text/x-python",
   "name": "python",
   "nbconvert_exporter": "python",
   "pygments_lexer": "ipython3",
   "version": "3.9.7"
  }
 },
 "nbformat": 4,
 "nbformat_minor": 5
}
