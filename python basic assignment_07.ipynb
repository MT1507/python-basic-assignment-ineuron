{
 "cells": [
  {
   "cell_type": "markdown",
   "id": "642eb295",
   "metadata": {},
   "source": [
    "Q 1 : What is the name of the feature responsible for generating Regex objects?"
   ]
  },
  {
   "cell_type": "markdown",
   "id": "6e80b12d",
   "metadata": {},
   "source": [
    "ans :"
   ]
  },
  {
   "cell_type": "markdown",
   "id": "ecf089ce",
   "metadata": {},
   "source": [
    "The re. compile() function returns Regex objects."
   ]
  },
  {
   "cell_type": "markdown",
   "id": "fe3c3c96",
   "metadata": {},
   "source": [
    "Q 2 : Why do raw strings often appear in Regex objects?\n"
   ]
  },
  {
   "cell_type": "markdown",
   "id": "cb43a20d",
   "metadata": {},
   "source": [
    "ans :"
   ]
  },
  {
   "cell_type": "markdown",
   "id": "4be1a107",
   "metadata": {},
   "source": [
    " Raw strings are used so that backslashes do not have to be escaped."
   ]
  },
  {
   "cell_type": "markdown",
   "id": "e852f078",
   "metadata": {},
   "source": [
    "Q 3 : What is the return value of the search() method?\n"
   ]
  },
  {
   "cell_type": "markdown",
   "id": "52517666",
   "metadata": {},
   "source": [
    "ans :"
   ]
  },
  {
   "cell_type": "markdown",
   "id": "aa7799f9",
   "metadata": {},
   "source": [
    "The re.search() function takes two parameters and returns a match object if there is a match. If there is more than one match, only the first occurrence of the match will be returned. If no matches are found, the value None is returned."
   ]
  },
  {
   "cell_type": "markdown",
   "id": "e171d5b1",
   "metadata": {},
   "source": [
    "Q 4 : From a Match item, how do you get the actual strings that match the pattern?\n"
   ]
  },
  {
   "cell_type": "markdown",
   "id": "f2e2648a",
   "metadata": {},
   "source": [
    "ans :"
   ]
  },
  {
   "cell_type": "markdown",
   "id": "5d3f9306",
   "metadata": {},
   "source": [
    "Steps of Regular Expression Matching\n",
    "\n"
   ]
  },
  {
   "cell_type": "markdown",
   "id": "818bece0",
   "metadata": {},
   "source": [
    "Import the regex module with import re."
   ]
  },
  {
   "cell_type": "markdown",
   "id": "624748ce",
   "metadata": {},
   "source": [
    "Create a Regex object with the re. compile() function."
   ]
  },
  {
   "cell_type": "markdown",
   "id": "bec9fd9f",
   "metadata": {},
   "source": [
    "Pass the string you want to search into the Regex object's search() method. "
   ]
  },
  {
   "cell_type": "markdown",
   "id": "e3f12d73",
   "metadata": {},
   "source": [
    "Call the Match object's group() method to return a string of the actual matched text."
   ]
  },
  {
   "cell_type": "markdown",
   "id": "93cbaff4",
   "metadata": {},
   "source": [
    "Q 5 : In the regex which created from the r'(\\d\\d\\d)-(\\d\\d\\d-\\d\\d\\d\\d)', what does group zero cover? Group 2? Group 1?"
   ]
  },
  {
   "cell_type": "markdown",
   "id": "21b1e943",
   "metadata": {},
   "source": [
    "ans :"
   ]
  },
  {
   "cell_type": "code",
   "execution_count": 1,
   "id": "90d2c8cb",
   "metadata": {},
   "outputs": [],
   "source": [
    "import re\n",
    "\n",
    "a = re.compile( r'(\\d\\d\\d)-(\\d\\d\\d-\\d\\d\\d\\d)')\n",
    "b = a.search(\"i have number of one person 345-567-4646\")"
   ]
  },
  {
   "cell_type": "code",
   "execution_count": 2,
   "id": "1d7a1c50",
   "metadata": {},
   "outputs": [
    {
     "data": {
      "text/plain": [
       "'345-567-4646'"
      ]
     },
     "execution_count": 2,
     "metadata": {},
     "output_type": "execute_result"
    }
   ],
   "source": [
    "b.group(0)"
   ]
  },
  {
   "cell_type": "code",
   "execution_count": 3,
   "id": "38926bf9",
   "metadata": {},
   "outputs": [
    {
     "data": {
      "text/plain": [
       "'345'"
      ]
     },
     "execution_count": 3,
     "metadata": {},
     "output_type": "execute_result"
    }
   ],
   "source": [
    "b.group(1)"
   ]
  },
  {
   "cell_type": "code",
   "execution_count": 4,
   "id": "798bf716",
   "metadata": {},
   "outputs": [
    {
     "data": {
      "text/plain": [
       "'567-4646'"
      ]
     },
     "execution_count": 4,
     "metadata": {},
     "output_type": "execute_result"
    }
   ],
   "source": [
    "b.group(2)"
   ]
  },
  {
   "cell_type": "code",
   "execution_count": 5,
   "id": "459c825c",
   "metadata": {},
   "outputs": [
    {
     "data": {
      "text/plain": [
       "('345', '567-4646')"
      ]
     },
     "execution_count": 5,
     "metadata": {},
     "output_type": "execute_result"
    }
   ],
   "source": [
    "b.groups()"
   ]
  },
  {
   "cell_type": "markdown",
   "id": "1f9ae14b",
   "metadata": {},
   "source": [
    "Group 0 is the entire match, group 1 covers the first set of parentheses, and group 2 covers the second set of parentheses."
   ]
  },
  {
   "cell_type": "markdown",
   "id": "10f9fdaf",
   "metadata": {},
   "source": [
    "Q 6 : In standard expression syntax, parentheses and intervals have distinct meanings. How can you tell a regex that you want it to fit real parentheses and periods?"
   ]
  },
  {
   "cell_type": "markdown",
   "id": "ba1ad129",
   "metadata": {},
   "source": [
    "ans :"
   ]
  },
  {
   "cell_type": "code",
   "execution_count": 6,
   "id": "a0d29187",
   "metadata": {},
   "outputs": [],
   "source": [
    "# Periods and parentheses can be escaped with a backslash: \\., \\(, and \\)."
   ]
  },
  {
   "cell_type": "markdown",
   "id": "33c5fac0",
   "metadata": {},
   "source": [
    "Q 7 : The findall() method returns a string list or a list of string tuples. What causes it to return one of the two options?"
   ]
  },
  {
   "cell_type": "markdown",
   "id": "39db70ac",
   "metadata": {},
   "source": [
    "ans :"
   ]
  },
  {
   "cell_type": "markdown",
   "id": "3969e711",
   "metadata": {},
   "source": [
    "If the regex has no groups, a list of strings is returned. If the regex has groups, a list of tuples of strings is returned."
   ]
  },
  {
   "cell_type": "markdown",
   "id": "e3fe22fc",
   "metadata": {},
   "source": [
    "Q 8 : In standard expressions, what does the | character mean?"
   ]
  },
  {
   "cell_type": "markdown",
   "id": "b73e6868",
   "metadata": {},
   "source": [
    "ans :"
   ]
  },
  {
   "cell_type": "markdown",
   "id": "446799e8",
   "metadata": {},
   "source": [
    "The | character signifies matching \"either, or\" between two groups."
   ]
  },
  {
   "cell_type": "markdown",
   "id": "d6ae55b1",
   "metadata": {},
   "source": [
    "Q 9 : In regular expressions, what does the character stand for?"
   ]
  },
  {
   "cell_type": "markdown",
   "id": "a5ba1a61",
   "metadata": {},
   "source": [
    "ans :"
   ]
  },
  {
   "cell_type": "markdown",
   "id": "c210c249",
   "metadata": {},
   "source": [
    "A character set is an explicit list of the characters that may qualify for a match in a search. A character set is indicated by enclosing a set of characters in brackets ([ and ]). "
   ]
  },
  {
   "cell_type": "markdown",
   "id": "eae7f934",
   "metadata": {},
   "source": [
    "Q 10 : In regular expressions, what is the difference between the + and * characters?"
   ]
  },
  {
   "cell_type": "markdown",
   "id": "971dd221",
   "metadata": {},
   "source": [
    "ans :"
   ]
  },
  {
   "cell_type": "markdown",
   "id": "33d04356",
   "metadata": {},
   "source": [
    "The + character matches one or more. The * character matches zero or more."
   ]
  },
  {
   "cell_type": "markdown",
   "id": "208d7bb4",
   "metadata": {},
   "source": [
    "Q 11 : What is the difference between {4} and {4,5} in regular expression?"
   ]
  },
  {
   "cell_type": "markdown",
   "id": "2025ef77",
   "metadata": {},
   "source": [
    "ans :"
   ]
  },
  {
   "cell_type": "markdown",
   "id": "7b6132ab",
   "metadata": {},
   "source": [
    "meaning of {4} : if lenth of RE is  4 then it it gives result ,otherwise not\n"
   ]
  },
  {
   "cell_type": "markdown",
   "id": "2792a1aa",
   "metadata": {},
   "source": [
    "meaning of {4,5} : the lenth of RE is should be minimum 4 and maximum 5 for printing the result\n"
   ]
  },
  {
   "cell_type": "markdown",
   "id": "5aef4506",
   "metadata": {},
   "source": [
    "Q 12 : What do you mean by the \\d, \\w, and \\s shorthand character classes signify in regular expressions?"
   ]
  },
  {
   "cell_type": "markdown",
   "id": "09e232f9",
   "metadata": {},
   "source": [
    "ans :"
   ]
  },
  {
   "cell_type": "markdown",
   "id": "cc23e3e6",
   "metadata": {},
   "source": [
    "\\d\t: Returns a match where the string contains digits (numbers from 0-9)"
   ]
  },
  {
   "cell_type": "markdown",
   "id": "2e066ce3",
   "metadata": {},
   "source": [
    "\\w  : Returns a match where the string contains any word characters (characters from a to Z, digits from 0-9, and the underscore _ character)"
   ]
  },
  {
   "cell_type": "markdown",
   "id": "5cccdd91",
   "metadata": {},
   "source": [
    "\\s : Returns a match where the string contains a white space character"
   ]
  },
  {
   "cell_type": "markdown",
   "id": "ba538eef",
   "metadata": {},
   "source": [
    "Q 13 : What do means by \\D, \\W, and \\S shorthand character classes signify in regular expressions?"
   ]
  },
  {
   "cell_type": "markdown",
   "id": "5b7c3e69",
   "metadata": {},
   "source": [
    "ans :"
   ]
  },
  {
   "cell_type": "markdown",
   "id": "a759bbe9",
   "metadata": {},
   "source": [
    "\\D : Returns a match where the string DOES NOT contain digits"
   ]
  },
  {
   "cell_type": "markdown",
   "id": "0763aa0c",
   "metadata": {},
   "source": [
    "\\W : Returns a match where the string DOES NOT contain any word characters"
   ]
  },
  {
   "cell_type": "markdown",
   "id": "7152e12b",
   "metadata": {},
   "source": [
    "\\S : Returns a match where the string DOES NOT contain a white space character"
   ]
  },
  {
   "cell_type": "code",
   "execution_count": 8,
   "id": "9670de5b",
   "metadata": {},
   "outputs": [],
   "source": [
    " #  Q 14 :  What is the difference between .*? and .*?"
   ]
  },
  {
   "cell_type": "markdown",
   "id": "e6e5076b",
   "metadata": {},
   "source": [
    "ans :"
   ]
  },
  {
   "cell_type": "markdown",
   "id": "deca293c",
   "metadata": {},
   "source": [
    "*? is non-greedy. * will match nothing, but then will try to match extra characters until it matches 1 , eventually matching 101 . All quantifiers have a non-greedy mode"
   ]
  },
  {
   "cell_type": "markdown",
   "id": "e661a3a5",
   "metadata": {},
   "source": [
    "Q 15 : What is the syntax for matching both numbers and lowercase letters with a character class?"
   ]
  },
  {
   "cell_type": "markdown",
   "id": "f1608c13",
   "metadata": {},
   "source": [
    "ans :"
   ]
  },
  {
   "cell_type": "markdown",
   "id": "e3d7cd21",
   "metadata": {},
   "source": [
    "[0-9a-z] or [a-z0-9]"
   ]
  },
  {
   "cell_type": "markdown",
   "id": "ea661b8c",
   "metadata": {},
   "source": [
    "Q 16 : What is the procedure for making a normal expression in regax case insensitive?"
   ]
  },
  {
   "cell_type": "markdown",
   "id": "9cfb7b50",
   "metadata": {},
   "source": [
    "ans :"
   ]
  },
  {
   "cell_type": "markdown",
   "id": "1e67edae",
   "metadata": {},
   "source": [
    "re. IGNORECASE : This flag allows for case-insensitive matching of the Regular Expression with the given string i.e. expressions like [A-Z] will match lowercase letters, too."
   ]
  },
  {
   "cell_type": "markdown",
   "id": "54d6400a",
   "metadata": {},
   "source": [
    "Q 17 : What does the . character normally match? What does it match if re.DOTALL is passed as 2nd argument in re.compile()?"
   ]
  },
  {
   "cell_type": "markdown",
   "id": "8539502e",
   "metadata": {},
   "source": [
    "ans  :"
   ]
  },
  {
   "cell_type": "markdown",
   "id": "1216daae",
   "metadata": {},
   "source": [
    "character normally matches any character except the newline character. If re. DOTALL is passed as the second argument to re. compile(), then the dot will also match newline characters."
   ]
  },
  {
   "cell_type": "markdown",
   "id": "368b0124",
   "metadata": {},
   "source": [
    "Q 18 : If numReg = re.compile(r'\\d+'), what will numRegex.sub('X', '11 drummers, 10 pipers, five rings, 4 hen') return?"
   ]
  },
  {
   "cell_type": "markdown",
   "id": "182071b6",
   "metadata": {},
   "source": [
    "ans :"
   ]
  },
  {
   "cell_type": "code",
   "execution_count": 9,
   "id": "051a47e6",
   "metadata": {},
   "outputs": [
    {
     "data": {
      "text/plain": [
       "'X drummers, X pipers, five rings, X hen'"
      ]
     },
     "execution_count": 9,
     "metadata": {},
     "output_type": "execute_result"
    }
   ],
   "source": [
    "import re\n",
    "numReg = re.compile(r'\\d+')\n",
    "numReg.sub('X', '11 drummers, 10 pipers, five rings, 4 hen')    "
   ]
  },
  {
   "cell_type": "markdown",
   "id": "e6da85c1",
   "metadata": {},
   "source": [
    "Q 19 : What does passing re.VERBOSE as the 2nd argument to re.compile() allow to do?"
   ]
  },
  {
   "cell_type": "markdown",
   "id": "60725692",
   "metadata": {},
   "source": [
    "ans :"
   ]
  },
  {
   "cell_type": "markdown",
   "id": "b5597282",
   "metadata": {},
   "source": [
    " The re. VERBOSE argument allows you to add whitespace and comments to the string passed to re.\n",
    "\n"
   ]
  },
  {
   "cell_type": "markdown",
   "id": "0b6be475",
   "metadata": {},
   "source": [
    "Q 20 : How would you write a regex that match a number with comma for every three digits? It must match the given following:"
   ]
  },
  {
   "cell_type": "markdown",
   "id": "4b86b0b0",
   "metadata": {},
   "source": [
    "'42'"
   ]
  },
  {
   "cell_type": "markdown",
   "id": "84f4340b",
   "metadata": {},
   "source": [
    "'1,234'"
   ]
  },
  {
   "cell_type": "markdown",
   "id": "a4cb340c",
   "metadata": {},
   "source": [
    "'6,368,745'"
   ]
  },
  {
   "cell_type": "markdown",
   "id": "3a776724",
   "metadata": {},
   "source": [
    "but not the following:"
   ]
  },
  {
   "cell_type": "markdown",
   "id": "4dd72b64",
   "metadata": {},
   "source": [
    "'12,34,567' (which has only two digits between the commas)"
   ]
  },
  {
   "cell_type": "markdown",
   "id": "92b846a1",
   "metadata": {},
   "source": [
    "'1234' (which lacks commas)"
   ]
  },
  {
   "cell_type": "markdown",
   "id": "5f9d741b",
   "metadata": {},
   "source": [
    "ans :"
   ]
  },
  {
   "cell_type": "code",
   "execution_count": 10,
   "id": "171525b6",
   "metadata": {},
   "outputs": [
    {
     "name": "stdout",
     "output_type": "stream",
     "text": [
      "yes : 42 is acceptable value \n",
      "yes : 1,234 is acceptable value \n",
      "yes : 6,368,745 is acceptable value \n",
      " no : 12,34,567  is not acceptable value \n",
      " no : 1234  is not acceptable value \n"
     ]
    }
   ],
   "source": [
    "import re\n",
    "l = ['42','1,234','6,368,745','12,34,567','1234']\n",
    "for i in l:\n",
    "    a = re.compile(r'(^\\d{1,3}(,\\d{3})*$)')\n",
    "    b = a.match(i)\n",
    "    if b :\n",
    "        print( f\"yes : {i} is acceptable value \")\n",
    "    else:\n",
    "        print(f\" no : {i}  is not acceptable value \")"
   ]
  },
  {
   "cell_type": "markdown",
   "id": "4d7712e4",
   "metadata": {},
   "source": [
    "Q 21 : How would you write a regex that matches the full name of someone whose last name is Watanabe? You can assume that the first name that comes before it will always be one word that begins with a capital letter. The regex must match the following:"
   ]
  },
  {
   "cell_type": "markdown",
   "id": "f268f73e",
   "metadata": {},
   "source": [
    "'Haruto Watanabe'"
   ]
  },
  {
   "cell_type": "markdown",
   "id": "23f0e304",
   "metadata": {},
   "source": [
    "'Alice Watanabe'"
   ]
  },
  {
   "cell_type": "markdown",
   "id": "fbc5a889",
   "metadata": {},
   "source": [
    "'RoboCop Watanabe'"
   ]
  },
  {
   "cell_type": "markdown",
   "id": "9e15f372",
   "metadata": {},
   "source": [
    "but not the following:"
   ]
  },
  {
   "cell_type": "markdown",
   "id": "38de336e",
   "metadata": {},
   "source": [
    "'haruto Watanabe' (where the first name is not capitalized)"
   ]
  },
  {
   "cell_type": "markdown",
   "id": "71d8a79a",
   "metadata": {},
   "source": [
    "'Mr. Watanabe' (where the preceding word has a nonletter character)"
   ]
  },
  {
   "cell_type": "markdown",
   "id": "e636a98e",
   "metadata": {},
   "source": [
    "'Watanabe' (which has no first name)"
   ]
  },
  {
   "cell_type": "markdown",
   "id": "93496b3e",
   "metadata": {},
   "source": [
    "'Haruto watanabe' (where Watanabe is not capitalized)"
   ]
  },
  {
   "cell_type": "markdown",
   "id": "6daca9f9",
   "metadata": {},
   "source": [
    "ans :"
   ]
  },
  {
   "cell_type": "code",
   "execution_count": 11,
   "id": "ba50ddbd",
   "metadata": {},
   "outputs": [
    {
     "name": "stdout",
     "output_type": "stream",
     "text": [
      "yes :  Haruto Watanabe , is a correct name\n",
      "yes :  Alice Watanabe , is a correct name\n",
      "yes :  RoboCop Watanabe , is a correct name\n",
      " no :  haruto Watanabe , is not a correct name\n",
      " no :  Mr. Watanabe , is not a correct name\n",
      " no :  Watanabe , is not a correct name\n",
      " no :  Haruto watanabe , is not a correct name\n"
     ]
    }
   ],
   "source": [
    "import re\n",
    "l = ['Haruto Watanabe',\n",
    "     'Alice Watanabe',\n",
    "     'RoboCop Watanabe',\n",
    "     'haruto Watanabe',\n",
    "     'Mr. Watanabe' ,\n",
    "     'Watanabe',\n",
    "     'Haruto watanabe' ]\n",
    "for i in l :\n",
    "    a = re.compile(r'[A-Z][a-z]+\\sWatanabe')\n",
    "    b = a.search(i)\n",
    "    if b  :\n",
    "        print( \"yes : \",i, \", is a correct name\")\n",
    "    else :\n",
    "        print( \" no : \",i,\", is not a correct name\")\n",
    "\n",
    "            "
   ]
  },
  {
   "cell_type": "markdown",
   "id": "f74dd783",
   "metadata": {},
   "source": [
    "Q 22 : How would you write a regex that matches a sentence where the first word is either Alice, Bob, or Carol; the second word is either eats, pets, or throws; the third word is apples, cats, or baseballs; and the sentence ends with a period? This regex should be case-insensitive. It must match the following:"
   ]
  },
  {
   "cell_type": "markdown",
   "id": "fa4f14c2",
   "metadata": {},
   "source": [
    "'Alice eats apples.'"
   ]
  },
  {
   "cell_type": "markdown",
   "id": "d9431555",
   "metadata": {},
   "source": [
    "'Bob pets cats.'"
   ]
  },
  {
   "cell_type": "markdown",
   "id": "541bb557",
   "metadata": {},
   "source": [
    "'Carol throws baseballs.'"
   ]
  },
  {
   "cell_type": "markdown",
   "id": "6bcf350e",
   "metadata": {},
   "source": [
    "'Alice throws Apples.'"
   ]
  },
  {
   "cell_type": "markdown",
   "id": "18cd2639",
   "metadata": {},
   "source": [
    "'BOB EATS CATS.'"
   ]
  },
  {
   "cell_type": "markdown",
   "id": "4cd0bcf1",
   "metadata": {},
   "source": [
    "but not the following:"
   ]
  },
  {
   "cell_type": "markdown",
   "id": "05ac266e",
   "metadata": {},
   "source": [
    "'RoboCop eats apples.'"
   ]
  },
  {
   "cell_type": "markdown",
   "id": "0cf0e82d",
   "metadata": {},
   "source": [
    "'ALICE THROWS FOOTBALLS.'"
   ]
  },
  {
   "cell_type": "markdown",
   "id": "ff374f62",
   "metadata": {},
   "source": [
    "'Carol eats 7 cats.'"
   ]
  },
  {
   "cell_type": "code",
   "execution_count": 12,
   "id": "b11324e1",
   "metadata": {},
   "outputs": [
    {
     "name": "stdout",
     "output_type": "stream",
     "text": [
      "yes :  Alice eats apples. , is a correct name\n",
      "yes :  Bob pets cats. , is a correct name\n",
      "yes :  Carol throws baseballs. , is a correct name\n",
      "yes :  Alice throws Apples. , is a correct name\n",
      "yes :  BOB EATS CATS. , is a correct name\n",
      " no :  RoboCop eats apples. , is not a correct name\n",
      " no :  ALICE THROWS FOOTBALLS. , is not a correct name\n",
      " no :  Carol eats 7 cats. , is not a correct name\n"
     ]
    }
   ],
   "source": [
    "import re\n",
    "l = ['Alice eats apples.','Bob pets cats.','Carol throws baseballs.','Alice throws Apples.','BOB EATS CATS.',\n",
    "     'RoboCop eats apples.','ALICE THROWS FOOTBALLS.','Carol eats 7 cats.']\n",
    "for i in l :\n",
    "    a=re.compile(r'(Alice|Bob|Carol)\\s+(eats|pets|throws)\\s+(apples|cats|baseballs)\\.', re.IGNORECASE)\n",
    "\n",
    "    b = a.match(i)\n",
    "    if b  :\n",
    "        print( \"yes : \",i, \", is a correct name\")\n",
    "    else :\n",
    "        print( \" no : \",i,\", is not a correct name\")\n",
    "    "
   ]
  },
  {
   "cell_type": "code",
   "execution_count": null,
   "id": "c9ee1980",
   "metadata": {},
   "outputs": [],
   "source": []
  },
  {
   "cell_type": "code",
   "execution_count": null,
   "id": "bcb0b059",
   "metadata": {},
   "outputs": [],
   "source": []
  },
  {
   "cell_type": "code",
   "execution_count": null,
   "id": "b5496687",
   "metadata": {},
   "outputs": [],
   "source": []
  },
  {
   "cell_type": "code",
   "execution_count": null,
   "id": "23a03351",
   "metadata": {},
   "outputs": [],
   "source": []
  }
 ],
 "metadata": {
  "kernelspec": {
   "display_name": "Python 3 (ipykernel)",
   "language": "python",
   "name": "python3"
  },
  "language_info": {
   "codemirror_mode": {
    "name": "ipython",
    "version": 3
   },
   "file_extension": ".py",
   "mimetype": "text/x-python",
   "name": "python",
   "nbconvert_exporter": "python",
   "pygments_lexer": "ipython3",
   "version": "3.9.7"
  }
 },
 "nbformat": 4,
 "nbformat_minor": 5
}
