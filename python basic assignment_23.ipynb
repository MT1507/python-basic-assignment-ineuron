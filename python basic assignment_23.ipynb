{
 "cells": [
  {
   "cell_type": "markdown",
   "id": "adee16e9",
   "metadata": {},
   "source": [
    "Q 1. What is the result of the code, and why?\n",
    "- &gt;&gt;&gt; def func(a, b=6, c=8):\n",
    "- print(a, b, c)\n",
    "- &gt;&gt;&gt; func(1, 2)"
   ]
  },
  {
   "cell_type": "markdown",
   "id": "87a75ae6",
   "metadata": {},
   "source": [
    "ans :"
   ]
  },
  {
   "cell_type": "code",
   "execution_count": 2,
   "id": "ce908097",
   "metadata": {},
   "outputs": [
    {
     "name": "stdout",
     "output_type": "stream",
     "text": [
      "1 2 8\n"
     ]
    }
   ],
   "source": [
    "def func(a, b=6, c=8):\n",
    "    print(a, b, c)\n",
    "func(1, 2)"
   ]
  },
  {
   "cell_type": "markdown",
   "id": "e5687f0c",
   "metadata": {},
   "source": [
    "Because of rewriting the second positional argument we got this result "
   ]
  },
  {
   "cell_type": "markdown",
   "id": "dfabfe9b",
   "metadata": {},
   "source": [
    "Q 2. What is the result of this code, and why?\n",
    "- &gt;&gt;&gt; def func(a, b, c=5):\n",
    "- print(a, b, c)\n",
    "- &gt;&gt;&gt; func(1, c=3, b=2)"
   ]
  },
  {
   "cell_type": "markdown",
   "id": "52a46411",
   "metadata": {},
   "source": [
    "ans :"
   ]
  },
  {
   "cell_type": "code",
   "execution_count": 7,
   "id": "22c1d43a",
   "metadata": {},
   "outputs": [
    {
     "name": "stdout",
     "output_type": "stream",
     "text": [
      "1 2 3\n"
     ]
    }
   ],
   "source": [
    "def func(a, b, c=5):\n",
    "    print(a, b, c)\n",
    "func(1, c=3, b=2)"
   ]
  },
  {
   "cell_type": "markdown",
   "id": "24fcb81b",
   "metadata": {},
   "source": [
    "Because of rewriting the second positional argument we got this result and positional arguments are independent  on order."
   ]
  },
  {
   "cell_type": "markdown",
   "id": "1a8e643a",
   "metadata": {},
   "source": [
    "Q 3. How about this code: what is its result, and why?\n",
    "- &gt;&gt;&gt; def func(a, *pargs):\n",
    "- print(a, pargs)\n",
    "- &gt;&gt;&gt; func(1, 2, 3)"
   ]
  },
  {
   "cell_type": "markdown",
   "id": "c8566d20",
   "metadata": {},
   "source": [
    "ans :"
   ]
  },
  {
   "cell_type": "code",
   "execution_count": 13,
   "id": "285bdba0",
   "metadata": {},
   "outputs": [
    {
     "name": "stdout",
     "output_type": "stream",
     "text": [
      "1 (2, 3)\n"
     ]
    }
   ],
   "source": [
    "def func(a, *pargs):\n",
    "    print(a, pargs)\n",
    "func(1, 2, 3)"
   ]
  },
  {
   "cell_type": "markdown",
   "id": "e0f312a1",
   "metadata": {},
   "source": [
    "Because of rewriting the second positional argument we got this result and it showstwo groups"
   ]
  },
  {
   "cell_type": "markdown",
   "id": "f32e9b19",
   "metadata": {},
   "source": [
    "Q4. What does this code print, and why?\n",
    "- &gt;&gt;&gt; def func(a, **kargs):\n",
    "- print(a, kargs)\n",
    "- &gt;&gt;&gt; func(a=1, c=3, b=2)"
   ]
  },
  {
   "cell_type": "markdown",
   "id": "60bc1102",
   "metadata": {},
   "source": [
    "ans : "
   ]
  },
  {
   "cell_type": "code",
   "execution_count": 14,
   "id": "19ffa095",
   "metadata": {},
   "outputs": [
    {
     "name": "stdout",
     "output_type": "stream",
     "text": [
      "1 {'c': 3, 'b': 2}\n"
     ]
    }
   ],
   "source": [
    "def func(a, **kargs):\n",
    "    print(a, kargs)\n",
    "func(a=1, c=3, b=2)"
   ]
  },
  {
   "cell_type": "markdown",
   "id": "73b00cea",
   "metadata": {},
   "source": [
    "just like *args, but instead of accepting positional arguments it accepts keyword (or named) arguments. "
   ]
  },
  {
   "cell_type": "markdown",
   "id": "538bf951",
   "metadata": {},
   "source": [
    "Q 5. What gets printed by this, and explain?\n",
    "- &gt;&gt;&gt; def func(a, b, c=8, d=5): print(a, b, c, d)\n",
    "- &gt;&gt;&gt; func(1, *(5, 6))"
   ]
  },
  {
   "cell_type": "markdown",
   "id": "9e548abf",
   "metadata": {},
   "source": [
    "ans : "
   ]
  },
  {
   "cell_type": "code",
   "execution_count": 17,
   "id": "3820ef98",
   "metadata": {},
   "outputs": [
    {
     "name": "stdout",
     "output_type": "stream",
     "text": [
      "1 5 6 5\n"
     ]
    }
   ],
   "source": [
    "def func(a, b, c=8, d=5):\n",
    "    print(a, b, c, d)\n",
    "func(1, *(5, 6))"
   ]
  },
  {
   "cell_type": "markdown",
   "id": "c56ec94d",
   "metadata": {},
   "source": [
    "Q 6. what is the result of this, and explain?\n",
    "- &gt;&gt;&gt; def func(a, b, c): a = 2; b[0] = &#39;x&#39;; c[&#39;a&#39;] = &#39;y&#39;\n",
    "- &gt;&gt;&gt; l=1; m=[1]; n={&#39;a&#39;:0}\n",
    "- &gt;&gt;&gt; func(l, m, n)"
   ]
  },
  {
   "cell_type": "code",
   "execution_count": 23,
   "id": "efbcbb79",
   "metadata": {},
   "outputs": [
    {
     "data": {
      "text/plain": [
       "(1, ['x'], {'a': 'y'})"
      ]
     },
     "execution_count": 23,
     "metadata": {},
     "output_type": "execute_result"
    }
   ],
   "source": [
    "def func(a, b, c):\n",
    "    a = 2\n",
    "    b[0] = 'x'\n",
    "    c['a'] = 'y'\n",
    "    l=1\n",
    "    m=[1]\n",
    "    n={'a':0}\n",
    "func(l, m, n)\n",
    "l, m, n"
   ]
  },
  {
   "cell_type": "code",
   "execution_count": null,
   "id": "c5e83023",
   "metadata": {},
   "outputs": [],
   "source": []
  },
  {
   "cell_type": "code",
   "execution_count": null,
   "id": "130b6f9f",
   "metadata": {},
   "outputs": [],
   "source": []
  }
 ],
 "metadata": {
  "kernelspec": {
   "display_name": "Python 3 (ipykernel)",
   "language": "python",
   "name": "python3"
  },
  "language_info": {
   "codemirror_mode": {
    "name": "ipython",
    "version": 3
   },
   "file_extension": ".py",
   "mimetype": "text/x-python",
   "name": "python",
   "nbconvert_exporter": "python",
   "pygments_lexer": "ipython3",
   "version": "3.9.12"
  }
 },
 "nbformat": 4,
 "nbformat_minor": 5
}
