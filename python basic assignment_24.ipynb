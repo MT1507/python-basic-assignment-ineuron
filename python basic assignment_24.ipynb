{
 "cells": [
  {
   "cell_type": "markdown",
   "id": "61fb6730",
   "metadata": {},
   "source": [
    "Q 1. What is the relationship between def statements and lambda expressions ?"
   ]
  },
  {
   "cell_type": "markdown",
   "id": "2b0e7d86",
   "metadata": {},
   "source": [
    "ans : "
   ]
  },
  {
   "cell_type": "markdown",
   "id": "fa53bfc6",
   "metadata": {},
   "source": [
    "Lambda Function, also referred to as 'Anonymous function' is same as a regular python function but can be defined without a name. While normal functions are defined using the def keyword, anonymous functions are defined using the lambda keyword."
   ]
  },
  {
   "cell_type": "markdown",
   "id": "4bde1c2b",
   "metadata": {},
   "source": [
    "Q 2. What is the benefit of lambda?"
   ]
  },
  {
   "cell_type": "markdown",
   "id": "9bbed3d3",
   "metadata": {},
   "source": [
    "ans : "
   ]
  },
  {
   "cell_type": "markdown",
   "id": "2db708f8",
   "metadata": {},
   "source": [
    "The lambda keyword in Python provides a shortcut for declaring small anonymous functions. Lambda functions behave just like regular functions declared with the def keyword. They can be used whenever function objects are required."
   ]
  },
  {
   "cell_type": "markdown",
   "id": "682f69d0",
   "metadata": {},
   "source": [
    "Q 3. Compare and contrast map, filter, and reduce."
   ]
  },
  {
   "cell_type": "markdown",
   "id": "8f296e2b",
   "metadata": {},
   "source": [
    "ans : "
   ]
  },
  {
   "cell_type": "markdown",
   "id": "e4b74a1b",
   "metadata": {},
   "source": [
    "map creates a new array by transforming every element in an array individually. filter creates a new array by removing elements that don't belong. reduce , on the other hand, takes all of the elements in an array and reduces them into a single value. Just like map and filter , reduce is defined on Array."
   ]
  },
  {
   "cell_type": "markdown",
   "id": "9a1c1ec9",
   "metadata": {},
   "source": [
    "Q 4. What are function annotations, and how are they used?"
   ]
  },
  {
   "cell_type": "markdown",
   "id": "82b792ef",
   "metadata": {},
   "source": [
    "ans:"
   ]
  },
  {
   "cell_type": "markdown",
   "id": "da8e447b",
   "metadata": {},
   "source": [
    "Annotations were introduced in Python 3.0 originally without any specific purpose. They were simply a way to associate arbitrary expressions to function arguments and return values."
   ]
  },
  {
   "cell_type": "markdown",
   "id": "e2ac4226",
   "metadata": {},
   "source": [
    "Q 5. What are recursive functions, and how are they used?"
   ]
  },
  {
   "cell_type": "markdown",
   "id": "4ab4c439",
   "metadata": {},
   "source": [
    "ans : "
   ]
  },
  {
   "cell_type": "markdown",
   "id": "d82b2cb5",
   "metadata": {},
   "source": [
    "A recursive function is a function in code that refers to itself for execution. Recursive functions can be simple or elaborate. They allow for more efficient code writing, for instance, in the listing or compiling of sets of numbers, strings or other variables through a single reiterated process."
   ]
  },
  {
   "cell_type": "markdown",
   "id": "ab6fae2b",
   "metadata": {},
   "source": [
    "Q 6. What are some general design guidelines for coding functions?"
   ]
  },
  {
   "cell_type": "markdown",
   "id": "139d6601",
   "metadata": {},
   "source": [
    "ans: "
   ]
  },
  {
   "cell_type": "markdown",
   "id": "c7afe59f",
   "metadata": {},
   "source": [
    "- Use 4 spaces instead of tabs.\n",
    "- Maximum line length is 120 symbols.\n",
    "- 2 blank lines between classes and functions.\n",
    "- 1 blank line within class between class methods.\n",
    "- No blank line following a def line.\n",
    "- No whitespace inside parentheses, brackets, or braces."
   ]
  },
  {
   "cell_type": "markdown",
   "id": "dc45f854",
   "metadata": {},
   "source": [
    "\n",
    "Q 7. Name three or more ways that functions can communicate results to a caller."
   ]
  },
  {
   "cell_type": "markdown",
   "id": "a9051c98",
   "metadata": {},
   "source": [
    "ans : "
   ]
  },
  {
   "cell_type": "markdown",
   "id": "52ea3d3b",
   "metadata": {},
   "source": [
    "A user-defined function is divided into three types such as function declaration, function definition, and function call."
   ]
  },
  {
   "cell_type": "code",
   "execution_count": null,
   "id": "33e9b344",
   "metadata": {},
   "outputs": [],
   "source": []
  }
 ],
 "metadata": {
  "kernelspec": {
   "display_name": "Python 3 (ipykernel)",
   "language": "python",
   "name": "python3"
  },
  "language_info": {
   "codemirror_mode": {
    "name": "ipython",
    "version": 3
   },
   "file_extension": ".py",
   "mimetype": "text/x-python",
   "name": "python",
   "nbconvert_exporter": "python",
   "pygments_lexer": "ipython3",
   "version": "3.9.12"
  }
 },
 "nbformat": 4,
 "nbformat_minor": 5
}
