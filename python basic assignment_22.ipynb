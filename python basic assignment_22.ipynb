{
 "cells": [
  {
   "cell_type": "markdown",
   "id": "6e1d5b16",
   "metadata": {},
   "source": [
    "Q 1. What is the result of the code, and explain?\n",
    "\n",
    "- &gt;&gt;&gt; X = &#39;iNeuron&#39;\n",
    "- &gt;&gt;&gt; def func():\n",
    "- print(X)\n",
    "\n",
    "- &gt;&gt;&gt; func()"
   ]
  },
  {
   "cell_type": "markdown",
   "id": "c08d55ce",
   "metadata": {},
   "source": [
    "ans : "
   ]
  },
  {
   "cell_type": "code",
   "execution_count": 4,
   "id": "8d0efa8f",
   "metadata": {},
   "outputs": [
    {
     "name": "stdout",
     "output_type": "stream",
     "text": [
      "iNeuron\n"
     ]
    }
   ],
   "source": [
    "x = \"iNeuron\"\n",
    "def func():\n",
    "    print(x)\n",
    "func()    "
   ]
  },
  {
   "cell_type": "markdown",
   "id": "f0c4917b",
   "metadata": {},
   "source": [
    " Because of we assign variable x into function func ,when we call the function we get output as a iNeuron  "
   ]
  },
  {
   "cell_type": "markdown",
   "id": "d0f8f5ee",
   "metadata": {},
   "source": [
    "Q 2. What is the result of the code, and explain?\n",
    "\n",
    "- &gt;&gt;&gt; X = &#39;iNeuron&#39;\n",
    "- &gt;&gt;&gt; def func():\n",
    "- X = &#39;NI!&#39;\n",
    "\n",
    "- &gt;&gt;&gt; func()\n",
    "- &gt;&gt;&gt; print(X)"
   ]
  },
  {
   "cell_type": "markdown",
   "id": "f63fe632",
   "metadata": {},
   "source": [
    "ans : "
   ]
  },
  {
   "cell_type": "code",
   "execution_count": 5,
   "id": "34b16cc6",
   "metadata": {},
   "outputs": [
    {
     "name": "stdout",
     "output_type": "stream",
     "text": [
      "iNeuron\n"
     ]
    }
   ],
   "source": [
    "x = \"iNeuron\"\n",
    "def func():\n",
    "    x = \"NI!\"\n",
    "func()\n",
    "print(x)\n",
    "    "
   ]
  },
  {
   "cell_type": "markdown",
   "id": "95273813",
   "metadata": {},
   "source": [
    "Because of no relation between variable x and function func ,result is a iNeuron"
   ]
  },
  {
   "cell_type": "markdown",
   "id": "3bed9bdc",
   "metadata": {},
   "source": [
    "Q 3. What does this code print, and why?\n",
    "\n",
    "- &gt;&gt;&gt; X = &#39;iNeuron&#39;\n",
    "- &gt;&gt;&gt; def func():\n",
    "- X = &#39;NI&#39;\n",
    "- print(X)\n",
    "\n",
    "- &gt;&gt;&gt; func()\n",
    "- &gt;&gt;&gt; print(X)"
   ]
  },
  {
   "cell_type": "markdown",
   "id": "6af648f2",
   "metadata": {},
   "source": [
    "Ans : "
   ]
  },
  {
   "cell_type": "code",
   "execution_count": 14,
   "id": "7bd9ad8b",
   "metadata": {},
   "outputs": [
    {
     "name": "stdout",
     "output_type": "stream",
     "text": [
      "NI\n",
      "iNeuron\n"
     ]
    }
   ],
   "source": [
    "X = 'iNeuron'\n",
    "def func():\n",
    "    X = 'NI'\n",
    "    print(X)\n",
    "\n",
    "func()\n",
    "print(X)"
   ]
  },
  {
   "cell_type": "markdown",
   "id": "abe816ca",
   "metadata": {},
   "source": [
    "First of all we assign X = 'iNeuron' and after that In the function func we assign  X = 'NI'.therefore when we call to function we get output as NI as well as when we call global variable X then we get output as iNeuron"
   ]
  },
  {
   "cell_type": "markdown",
   "id": "cfd6a760",
   "metadata": {},
   "source": [
    "Q 4. What output does this code produce? Why?\n",
    "\n",
    "- &gt;&gt;&gt; X = &#39;iNeuron&#39;\n",
    "- &gt;&gt;&gt; def func():\n",
    "- global X\n",
    "- X = &#39;NI&#39;\n",
    "\n",
    "- &gt;&gt;&gt; func()\n",
    "- &gt;&gt;&gt; print(X)"
   ]
  },
  {
   "cell_type": "markdown",
   "id": "0bfca6bc",
   "metadata": {},
   "source": [
    "ans :"
   ]
  },
  {
   "cell_type": "code",
   "execution_count": 16,
   "id": "2447a4b1",
   "metadata": {},
   "outputs": [
    {
     "name": "stdout",
     "output_type": "stream",
     "text": [
      "NI\n"
     ]
    }
   ],
   "source": [
    "X = 'iNeuron'\n",
    "def func():\n",
    "    global X\n",
    "    X = 'NI'\n",
    "\n",
    "func()\n",
    "print(X)"
   ]
  },
  {
   "cell_type": "markdown",
   "id": "7fbf77bd",
   "metadata": {},
   "source": [
    "Here we assign X = 'iNeuron' and in the function func we reassign X = \"NI\" .Becuase of calling global keyword above the line of X = 'NI' in the function.\n",
    "therefore when we call print(X) ,the output is NI as shown in above code .\n",
    "And when we call the function we get nothing,because in the defination of function we are not putting an argument as return or print."
   ]
  },
  {
   "cell_type": "markdown",
   "id": "7eea010d",
   "metadata": {},
   "source": [
    "Q 5. What about this code—what’s the output, and why?\n",
    "\n",
    "- &gt;&gt;&gt; X = &#39;iNeuron&#39;\n",
    "- &gt;&gt;&gt; def func():\n",
    "- X = &#39;NI&#39;\n",
    "- def nested():\n",
    "- print(X)\n",
    "- nested()\n",
    "\n",
    "- &gt;&gt;&gt; func()\n",
    "- &gt;&gt;&gt; X"
   ]
  },
  {
   "cell_type": "markdown",
   "id": "75ed07eb",
   "metadata": {},
   "source": [
    "ans : "
   ]
  },
  {
   "cell_type": "code",
   "execution_count": 20,
   "id": "3b22a836",
   "metadata": {},
   "outputs": [
    {
     "name": "stdout",
     "output_type": "stream",
     "text": [
      "NI\n"
     ]
    },
    {
     "data": {
      "text/plain": [
       "'iNeuron'"
      ]
     },
     "execution_count": 20,
     "metadata": {},
     "output_type": "execute_result"
    }
   ],
   "source": [
    "X = 'iNeuron'\n",
    "def func():\n",
    "    X = 'NI'\n",
    "    def nested():\n",
    "        print(X)\n",
    "    nested()\n",
    "\n",
    "func()\n",
    "X"
   ]
  },
  {
   "cell_type": "markdown",
   "id": "ebe31dcb",
   "metadata": {},
   "source": [
    "according to nested function defination we got this answer. "
   ]
  },
  {
   "cell_type": "markdown",
   "id": "7a6e7e48",
   "metadata": {},
   "source": [
    "Q 6. How about this code: what is its output in Python 3, and explain?\n",
    "\n",
    "- &gt;&gt;&gt; def func():\n",
    "- X = &#39;NI&#39;\n",
    "- def nested():\n",
    "- nonlocal X\n",
    "- X = &#39;Spam&#39;\n",
    "- nested()\n",
    "- print(X)\n",
    "\n",
    "- &gt;&gt;&gt; func()"
   ]
  },
  {
   "cell_type": "code",
   "execution_count": 23,
   "id": "cbf6611b",
   "metadata": {},
   "outputs": [
    {
     "name": "stdout",
     "output_type": "stream",
     "text": [
      "Spam\n"
     ]
    }
   ],
   "source": [
    "def func():\n",
    "    X = 'NI'\n",
    "    def nested():\n",
    "        nonlocal X\n",
    "        X = 'Spam'\n",
    "    nested()\n",
    "    print(X)\n",
    "\n",
    "func()"
   ]
  },
  {
   "cell_type": "code",
   "execution_count": null,
   "id": "fe1e1b4d",
   "metadata": {},
   "outputs": [],
   "source": []
  }
 ],
 "metadata": {
  "kernelspec": {
   "display_name": "Python 3 (ipykernel)",
   "language": "python",
   "name": "python3"
  },
  "language_info": {
   "codemirror_mode": {
    "name": "ipython",
    "version": 3
   },
   "file_extension": ".py",
   "mimetype": "text/x-python",
   "name": "python",
   "nbconvert_exporter": "python",
   "pygments_lexer": "ipython3",
   "version": "3.9.12"
  }
 },
 "nbformat": 4,
 "nbformat_minor": 5
}
