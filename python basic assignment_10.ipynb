{
 "cells": [
  {
   "cell_type": "markdown",
   "id": "b47eebe6",
   "metadata": {},
   "source": [
    "1. How do you distinguish between shutil.copy() and shutil.copytree()?\n"
   ]
  },
  {
   "cell_type": "markdown",
   "id": "4fd3c10b",
   "metadata": {},
   "source": [
    "ans :"
   ]
  },
  {
   "cell_type": "markdown",
   "id": "aab0186f",
   "metadata": {},
   "source": [
    "The shutil. copy() function will copy a single file, while shutil. copytree() will copy an entire folder, along with all its contents."
   ]
  },
  {
   "cell_type": "markdown",
   "id": "ad2df399",
   "metadata": {},
   "source": [
    "2. What function is used to rename files?\n"
   ]
  },
  {
   "cell_type": "markdown",
   "id": "f9a82635",
   "metadata": {},
   "source": [
    "ans :"
   ]
  },
  {
   "cell_type": "markdown",
   "id": "2dd5b8ee",
   "metadata": {},
   "source": [
    "os.rename() method in Python is used to rename a file or directory."
   ]
  },
  {
   "cell_type": "markdown",
   "id": "87e005aa",
   "metadata": {},
   "source": [
    "3. What is the difference between the delete functions in the send2trash and shutil modules?"
   ]
  },
  {
   "cell_type": "markdown",
   "id": "553ed34b",
   "metadata": {},
   "source": [
    "ans :"
   ]
  },
  {
   "cell_type": "markdown",
   "id": "bc1dc923",
   "metadata": {},
   "source": [
    "The send2trash functions will move a file or folder to the recycle bin, while shutil functions will permanently delete files and folders."
   ]
  },
  {
   "cell_type": "markdown",
   "id": "0798f256",
   "metadata": {},
   "source": [
    "4.ZipFile objects have a close() method just like File objects’ close() method. What ZipFile method is equivalent to File objects’ open() method?\n"
   ]
  },
  {
   "cell_type": "markdown",
   "id": "8b24a84c",
   "metadata": {},
   "source": [
    "ans :"
   ]
  },
  {
   "cell_type": "markdown",
   "id": "96386898",
   "metadata": {},
   "source": [
    "The zipfile. ZipFile() function is equivalent to the open() function; the first argument is the filename, and the second argument is the mode to open the ZIP file in (read, write, or append)."
   ]
  },
  {
   "cell_type": "markdown",
   "id": "101ef4bb",
   "metadata": {},
   "source": [
    "5. Create a programme that searches a folder tree for files with a certain file extension (such as .pdf or .jpg). Copy these files from whatever location they are in to a new folder.\n"
   ]
  },
  {
   "cell_type": "markdown",
   "id": "91f8e1a7",
   "metadata": {},
   "source": [
    "ans :"
   ]
  },
  {
   "cell_type": "code",
   "execution_count": 7,
   "id": "80763ace",
   "metadata": {},
   "outputs": [],
   "source": [
    "import shutil\n",
    "import os "
   ]
  },
  {
   "cell_type": "code",
   "execution_count": 54,
   "id": "1f4a9ef4",
   "metadata": {},
   "outputs": [
    {
     "name": "stdout",
     "output_type": "stream",
     "text": [
      "C:\\Users\\Lenovo\\python basic assignment\n"
     ]
    }
   ],
   "source": [
    "src = r\"C:\\Users\\Lenovo\\Downloads\\same-resume-year-wise-master\"\n",
    "dest = os.getcwd()\n",
    "print(dest)"
   ]
  },
  {
   "cell_type": "code",
   "execution_count": 55,
   "id": "fb9ecd57",
   "metadata": {},
   "outputs": [
    {
     "name": "stdout",
     "output_type": "stream",
     "text": [
      "C:\\Users\\Lenovo\\Downloads\\same-resume-year-wise-master\\15+ (1).pdf\n",
      "C:\\Users\\Lenovo\\Downloads\\same-resume-year-wise-master\\15+.pdf\n",
      "C:\\Users\\Lenovo\\Downloads\\same-resume-year-wise-master\\20.pdf\n",
      "C:\\Users\\Lenovo\\Downloads\\same-resume-year-wise-master\\3+.pdf\n",
      "C:\\Users\\Lenovo\\Downloads\\same-resume-year-wise-master\\5+ .pdf\n",
      "C:\\Users\\Lenovo\\Downloads\\same-resume-year-wise-master\\5+.pdf\n",
      "C:\\Users\\Lenovo\\Downloads\\same-resume-year-wise-master\\5.pdf\n",
      "C:\\Users\\Lenovo\\Downloads\\same-resume-year-wise-master\\6+.pdf\n",
      "C:\\Users\\Lenovo\\Downloads\\same-resume-year-wise-master\\8+.pdf\n",
      "C:\\Users\\Lenovo\\Downloads\\same-resume-year-wise-master\\freasher .pdf\n",
      "C:\\Users\\Lenovo\\Downloads\\same-resume-year-wise-master\\maxresdefault.jpg\n",
      "C:\\Users\\Lenovo\\Downloads\\same-resume-year-wise-master\\mteh fresher.pdf\n",
      "C:\\Users\\Lenovo\\Downloads\\same-resume-year-wise-master\\Picsart_22-05-19_13-54-35-076.jpg\n",
      "C:\\Users\\Lenovo\\Downloads\\same-resume-year-wise-master\\Picsart_22-05-19_13-58-22-907.jpg\n",
      "C:\\Users\\Lenovo\\Downloads\\same-resume-year-wise-master\\Picsart_22-05-19_14-00-54-917.jpg\n",
      "C:\\Users\\Lenovo\\Downloads\\same-resume-year-wise-master\\Picsart_22-05-19_16-52-58-602.jpg\n",
      "C:\\Users\\Lenovo\\Downloads\\same-resume-year-wise-master\\seven.pdf\n"
     ]
    }
   ],
   "source": [
    "for dirs,subdirs,files in os.walk(src):\n",
    "    for file in files:\n",
    "        if file.endswith(\".pdf\") or file.endswith(\".jpg\"):\n",
    "            #print(file)\n",
    "            filename = os.path.join(src,dirs,file)\n",
    "            if os.path.exists(filename):\n",
    "                print(filename)\n",
    "                shutil.copy(filename,dest)"
   ]
  },
  {
   "cell_type": "code",
   "execution_count": null,
   "id": "738a4151",
   "metadata": {},
   "outputs": [],
   "source": []
  }
 ],
 "metadata": {
  "kernelspec": {
   "display_name": "Python 3 (ipykernel)",
   "language": "python",
   "name": "python3"
  },
  "language_info": {
   "codemirror_mode": {
    "name": "ipython",
    "version": 3
   },
   "file_extension": ".py",
   "mimetype": "text/x-python",
   "name": "python",
   "nbconvert_exporter": "python",
   "pygments_lexer": "ipython3",
   "version": "3.9.7"
  }
 },
 "nbformat": 4,
 "nbformat_minor": 5
}
