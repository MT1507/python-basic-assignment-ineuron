{
 "cells": [
  {
   "cell_type": "markdown",
   "id": "83aae790",
   "metadata": {},
   "source": [
    "Q 1"
   ]
  },
  {
   "cell_type": "markdown",
   "id": "7b0fa3c3",
   "metadata": {},
   "source": [
    "What exactly is []?"
   ]
  },
  {
   "cell_type": "markdown",
   "id": "1f036fd8",
   "metadata": {},
   "source": [
    "ans :\n"
   ]
  },
  {
   "cell_type": "markdown",
   "id": "fce70289",
   "metadata": {},
   "source": [
    "[] this is list"
   ]
  },
  {
   "cell_type": "markdown",
   "id": "7b200b56",
   "metadata": {},
   "source": [
    "Q 2"
   ]
  },
  {
   "cell_type": "markdown",
   "id": "fbf87d7d",
   "metadata": {},
   "source": [
    "In a list of values stored in a variable called spam, how would you assign the value &#39;hello&#39; as the\n",
    "third value? (Assume [2, 4, 6, 8, 10] are in spam.)"
   ]
  },
  {
   "cell_type": "markdown",
   "id": "24d0ed62",
   "metadata": {},
   "source": [
    "ans :\n",
    "    "
   ]
  },
  {
   "cell_type": "code",
   "execution_count": 7,
   "id": "ff3de7ce",
   "metadata": {},
   "outputs": [],
   "source": [
    "# if \n",
    "spam = [2,4,6,8,10]"
   ]
  },
  {
   "cell_type": "code",
   "execution_count": 10,
   "id": "2c7997a2",
   "metadata": {},
   "outputs": [],
   "source": [
    "spam[2] = \"hello\""
   ]
  },
  {
   "cell_type": "code",
   "execution_count": 11,
   "id": "a4beab61",
   "metadata": {},
   "outputs": [
    {
     "data": {
      "text/plain": [
       "[2, 4, 'hello', 8, 10]"
      ]
     },
     "execution_count": 11,
     "metadata": {},
     "output_type": "execute_result"
    }
   ],
   "source": [
    "spam"
   ]
  },
  {
   "cell_type": "markdown",
   "id": "ebf35267",
   "metadata": {},
   "source": [
    "In  above code i did a slicing operation for third value and then i assign third value is equal to \"hello\""
   ]
  },
  {
   "cell_type": "markdown",
   "id": "2fbf5b20",
   "metadata": {},
   "source": [
    "# Let's pretend the spam includes the list [\"a\",\"b\",\"c\",\"d\"] for the next three queries."
   ]
  },
  {
   "cell_type": "markdown",
   "id": "19383217",
   "metadata": {},
   "source": [
    "Q 3"
   ]
  },
  {
   "cell_type": "markdown",
   "id": "8a452e52",
   "metadata": {},
   "source": [
    "What is the value of spam[ int ( int ( ' 3 ' * 2 ) / 11 )] ?"
   ]
  },
  {
   "cell_type": "markdown",
   "id": "a119b830",
   "metadata": {},
   "source": [
    "ans :"
   ]
  },
  {
   "cell_type": "code",
   "execution_count": 33,
   "id": "89879d2b",
   "metadata": {},
   "outputs": [
    {
     "data": {
      "text/plain": [
       "'d'"
      ]
     },
     "execution_count": 33,
     "metadata": {},
     "output_type": "execute_result"
    }
   ],
   "source": [
    "spam = [\"a\",\"b\",\"c\",\"d\"]\n",
    "spam[int(int('3'*2)/11)]"
   ]
  },
  {
   "cell_type": "markdown",
   "id": "c70e5560",
   "metadata": {},
   "source": [
    "The value of spam[ int ( int ( ' 3 ' * 2 ) / 11 )] is 'd'"
   ]
  },
  {
   "cell_type": "markdown",
   "id": "a8c14ef3",
   "metadata": {},
   "source": [
    "Q 4"
   ]
  },
  {
   "cell_type": "markdown",
   "id": "179fc322",
   "metadata": {},
   "source": [
    "What is the value of spam[-1]?"
   ]
  },
  {
   "cell_type": "markdown",
   "id": "be2e6d22",
   "metadata": {},
   "source": [
    "ans :"
   ]
  },
  {
   "cell_type": "code",
   "execution_count": 34,
   "id": "b04a308d",
   "metadata": {},
   "outputs": [
    {
     "data": {
      "text/plain": [
       "'d'"
      ]
     },
     "execution_count": 34,
     "metadata": {},
     "output_type": "execute_result"
    }
   ],
   "source": [
    "spam[-1]"
   ]
  },
  {
   "cell_type": "markdown",
   "id": "5bc93ed1",
   "metadata": {},
   "source": [
    "The value of spam[-1] is 'd'"
   ]
  },
  {
   "cell_type": "markdown",
   "id": "f2de64c6",
   "metadata": {},
   "source": [
    "Q 5 "
   ]
  },
  {
   "cell_type": "markdown",
   "id": "8d6e5b2a",
   "metadata": {},
   "source": [
    "What is the value of spam[:2]?"
   ]
  },
  {
   "cell_type": "markdown",
   "id": "d31e7bcb",
   "metadata": {},
   "source": [
    "ans :"
   ]
  },
  {
   "cell_type": "code",
   "execution_count": 35,
   "id": "03c30dde",
   "metadata": {},
   "outputs": [
    {
     "data": {
      "text/plain": [
       "['a', 'b']"
      ]
     },
     "execution_count": 35,
     "metadata": {},
     "output_type": "execute_result"
    }
   ],
   "source": [
    "spam[:2]"
   ]
  },
  {
   "cell_type": "markdown",
   "id": "faa6e67e",
   "metadata": {},
   "source": [
    "The value of spam[:2]  is  ['a', 'b']"
   ]
  },
  {
   "cell_type": "markdown",
   "id": "66a1fa9c",
   "metadata": {},
   "source": [
    "# Let's pretend bacon has the list [3.14,'cat',11,'cat',True] for the next three questions."
   ]
  },
  {
   "cell_type": "markdown",
   "id": "65653e4e",
   "metadata": {},
   "source": [
    "Q 6"
   ]
  },
  {
   "cell_type": "markdown",
   "id": "248df6e3",
   "metadata": {},
   "source": [
    "What is the value of bacon.index('cat')?"
   ]
  },
  {
   "cell_type": "markdown",
   "id": "98ed2508",
   "metadata": {},
   "source": [
    "ans :"
   ]
  },
  {
   "cell_type": "code",
   "execution_count": 60,
   "id": "629e464f",
   "metadata": {},
   "outputs": [
    {
     "data": {
      "text/plain": [
       "1"
      ]
     },
     "execution_count": 60,
     "metadata": {},
     "output_type": "execute_result"
    }
   ],
   "source": [
    "bacon = [3.14,'cat',11,'cat',True]\n",
    "bacon.index('cat')"
   ]
  },
  {
   "cell_type": "markdown",
   "id": "772067a4",
   "metadata": {},
   "source": [
    "The value of bacon.index('cat') is 1"
   ]
  },
  {
   "cell_type": "markdown",
   "id": "700f2bf2",
   "metadata": {},
   "source": [
    "Q 7 "
   ]
  },
  {
   "cell_type": "markdown",
   "id": "dc330223",
   "metadata": {},
   "source": [
    "How does bacon.append(99) change the look of the list value in bacon?"
   ]
  },
  {
   "cell_type": "markdown",
   "id": "15bfcd34",
   "metadata": {},
   "source": [
    "ans :"
   ]
  },
  {
   "cell_type": "code",
   "execution_count": 61,
   "id": "a5c8bbc4",
   "metadata": {},
   "outputs": [],
   "source": [
    "bacon.append(99) "
   ]
  },
  {
   "cell_type": "code",
   "execution_count": 62,
   "id": "fffc2a4d",
   "metadata": {},
   "outputs": [
    {
     "data": {
      "text/plain": [
       "[3.14, 'cat', 11, 'cat', True, 99]"
      ]
     },
     "execution_count": 62,
     "metadata": {},
     "output_type": "execute_result"
    }
   ],
   "source": [
    "bacon"
   ]
  },
  {
   "cell_type": "markdown",
   "id": "08597a64",
   "metadata": {},
   "source": [
    "After doing bacon.append(99) ,99 is apend at last of the list"
   ]
  },
  {
   "cell_type": "markdown",
   "id": "fbb46092",
   "metadata": {},
   "source": [
    "Q 8"
   ]
  },
  {
   "cell_type": "markdown",
   "id": "9002434b",
   "metadata": {},
   "source": [
    "How does bacon.remove('cat') change the look of the list in bacon?"
   ]
  },
  {
   "cell_type": "markdown",
   "id": "cd41d407",
   "metadata": {},
   "source": [
    "ans :"
   ]
  },
  {
   "cell_type": "code",
   "execution_count": 63,
   "id": "2c4b0aaa",
   "metadata": {},
   "outputs": [],
   "source": [
    " bacon.remove('cat')"
   ]
  },
  {
   "cell_type": "code",
   "execution_count": 64,
   "id": "7bacc84c",
   "metadata": {},
   "outputs": [
    {
     "data": {
      "text/plain": [
       "[3.14, 11, 'cat', True, 99]"
      ]
     },
     "execution_count": 64,
     "metadata": {},
     "output_type": "execute_result"
    }
   ],
   "source": [
    "bacon"
   ]
  },
  {
   "cell_type": "markdown",
   "id": "7b2386a9",
   "metadata": {},
   "source": [
    "bacon.remove('cat') is remove 'cat' which is appearing first from bacon"
   ]
  },
  {
   "cell_type": "markdown",
   "id": "f8238c71",
   "metadata": {},
   "source": [
    "Q 9 :"
   ]
  },
  {
   "cell_type": "markdown",
   "id": "d8c86ac6",
   "metadata": {},
   "source": [
    "What are the list concatenation and list replication operators?"
   ]
  },
  {
   "cell_type": "markdown",
   "id": "5eed73a6",
   "metadata": {},
   "source": [
    "ans :\n"
   ]
  },
  {
   "cell_type": "markdown",
   "id": "eace9691",
   "metadata": {},
   "source": [
    "The notation of concatenation is ' + ' and the notation of replication operators is \n",
    "' * '"
   ]
  },
  {
   "cell_type": "markdown",
   "id": "017510bd",
   "metadata": {},
   "source": [
    "The concatanation operator is use for appending values one by one , But the replication operator is used for multiplying the values   "
   ]
  },
  {
   "cell_type": "markdown",
   "id": "266d3396",
   "metadata": {},
   "source": [
    "For list of only string concatanation operator and replication operator gives same result"
   ]
  },
  {
   "cell_type": "markdown",
   "id": "e4745f3e",
   "metadata": {},
   "source": [
    "Q 10"
   ]
  },
  {
   "cell_type": "markdown",
   "id": "f7f08818",
   "metadata": {},
   "source": [
    "What is difference between the list methods append() and insert()?"
   ]
  },
  {
   "cell_type": "markdown",
   "id": "7d8d65c0",
   "metadata": {},
   "source": [
    "ans :"
   ]
  },
  {
   "cell_type": "markdown",
   "id": "a20c4105",
   "metadata": {},
   "source": [
    "append() is used for inserting values at the end of the list and insert() is used for inserting values at any point we want ,for that we have to provide index number   "
   ]
  },
  {
   "cell_type": "markdown",
   "id": "c2d7072c",
   "metadata": {},
   "source": [
    "Q 11 "
   ]
  },
  {
   "cell_type": "markdown",
   "id": "1bca48a0",
   "metadata": {},
   "source": [
    "What are the two methods for removing items from a list?"
   ]
  },
  {
   "cell_type": "markdown",
   "id": "7767e8ac",
   "metadata": {},
   "source": [
    "ans :"
   ]
  },
  {
   "cell_type": "markdown",
   "id": "757ec37d",
   "metadata": {},
   "source": [
    "list.pop() and list.remove() are two methods used for removing items from list. "
   ]
  },
  {
   "cell_type": "markdown",
   "id": "13122d22",
   "metadata": {},
   "source": [
    "list.clear() method is used for removing all values in bulk from list"
   ]
  },
  {
   "cell_type": "markdown",
   "id": "b21b543f",
   "metadata": {},
   "source": [
    "Q 12 "
   ]
  },
  {
   "cell_type": "markdown",
   "id": "3e5da350",
   "metadata": {},
   "source": [
    "Describe how list values and string values are identical."
   ]
  },
  {
   "cell_type": "markdown",
   "id": "a3b207eb",
   "metadata": {},
   "source": [
    "ans :"
   ]
  },
  {
   "cell_type": "markdown",
   "id": "15f5076e",
   "metadata": {},
   "source": [
    "The similarity between Lists and Strings in Python is that both are sequences. The differences between them are that firstly, Lists are mutable but Strings are immutable. Secondly, elements of a list can be of different types whereas a String only contains characters that are all of String type."
   ]
  },
  {
   "cell_type": "markdown",
   "id": "7f22aa72",
   "metadata": {},
   "source": [
    "Q 13 \n"
   ]
  },
  {
   "cell_type": "markdown",
   "id": "ef7f0599",
   "metadata": {},
   "source": [
    "What's the difference between tuples and lists?"
   ]
  },
  {
   "cell_type": "markdown",
   "id": "f3240ddc",
   "metadata": {},
   "source": [
    "ans :"
   ]
  },
  {
   "cell_type": "markdown",
   "id": "be5720bc",
   "metadata": {},
   "source": [
    "The key difference between the tuples and lists is that while the tuples are immutable objects the lists are mutable. This means that tuples cannot be changed while the lists can be modified. Tuples are more memory efficient than the lists."
   ]
  },
  {
   "cell_type": "markdown",
   "id": "50e3d812",
   "metadata": {},
   "source": [
    "Q 14 "
   ]
  },
  {
   "cell_type": "markdown",
   "id": "f0c83ecf",
   "metadata": {},
   "source": [
    "How do you type a tuple value that only contains the integer 42?"
   ]
  },
  {
   "cell_type": "markdown",
   "id": "2f0d4fae",
   "metadata": {},
   "source": [
    "ans :"
   ]
  },
  {
   "cell_type": "code",
   "execution_count": 108,
   "id": "a63cf455",
   "metadata": {},
   "outputs": [],
   "source": [
    "a = (42,)"
   ]
  },
  {
   "cell_type": "code",
   "execution_count": 109,
   "id": "fb7b3d8b",
   "metadata": {},
   "outputs": [
    {
     "data": {
      "text/plain": [
       "tuple"
      ]
     },
     "execution_count": 109,
     "metadata": {},
     "output_type": "execute_result"
    }
   ],
   "source": [
    "type(a)"
   ]
  },
  {
   "cell_type": "markdown",
   "id": "78ffc43e",
   "metadata": {},
   "source": [
    "Q 15"
   ]
  },
  {
   "cell_type": "markdown",
   "id": "1a928ee5",
   "metadata": {},
   "source": [
    "How do you get a list value&#39;s tuple form? How do you get a tuple value's list form?"
   ]
  },
  {
   "cell_type": "markdown",
   "id": "270d5354",
   "metadata": {},
   "source": [
    "ans :"
   ]
  },
  {
   "cell_type": "code",
   "execution_count": 114,
   "id": "32a3ad9a",
   "metadata": {},
   "outputs": [],
   "source": [
    "l = [1,2,3,4,5]"
   ]
  },
  {
   "cell_type": "code",
   "execution_count": 115,
   "id": "6708ab95",
   "metadata": {},
   "outputs": [
    {
     "data": {
      "text/plain": [
       "(1, 2, 3, 4, 5)"
      ]
     },
     "execution_count": 115,
     "metadata": {},
     "output_type": "execute_result"
    }
   ],
   "source": [
    "tuple(l)"
   ]
  },
  {
   "cell_type": "markdown",
   "id": "c237a677",
   "metadata": {},
   "source": [
    "I get a list value's tuple form using \" tuple(list) \""
   ]
  },
  {
   "cell_type": "code",
   "execution_count": 116,
   "id": "1ec3da34",
   "metadata": {},
   "outputs": [],
   "source": [
    "t = (1,2,3,4,5,6)"
   ]
  },
  {
   "cell_type": "code",
   "execution_count": 117,
   "id": "881e17fa",
   "metadata": {},
   "outputs": [
    {
     "data": {
      "text/plain": [
       "[1, 2, 3, 4, 5, 6]"
      ]
     },
     "execution_count": 117,
     "metadata": {},
     "output_type": "execute_result"
    }
   ],
   "source": [
    "list(t)"
   ]
  },
  {
   "cell_type": "markdown",
   "id": "22325f1e",
   "metadata": {},
   "source": [
    "I get a tuple value's list form using \" list(tuple) \""
   ]
  },
  {
   "cell_type": "markdown",
   "id": "c5dc5443",
   "metadata": {},
   "source": [
    "Q 16"
   ]
  },
  {
   "cell_type": "markdown",
   "id": "dd89a90c",
   "metadata": {},
   "source": [
    "Variables that ' contain ' list values are not necessarily lists themselves. Instead, what do they  contain?"
   ]
  },
  {
   "cell_type": "markdown",
   "id": "03a5df88",
   "metadata": {},
   "source": [
    "ans :"
   ]
  },
  {
   "cell_type": "markdown",
   "id": "1d6d9b2f",
   "metadata": {},
   "source": [
    "Variables will contain references (index) to list values rather than list values themselves. But for strings and integer values, variables simply contain the string or integer value."
   ]
  },
  {
   "cell_type": "markdown",
   "id": "c73d04da",
   "metadata": {},
   "source": [
    "Q 17"
   ]
  },
  {
   "cell_type": "markdown",
   "id": "1d268256",
   "metadata": {},
   "source": [
    "How do you distinguish between copy.copy() and copy.deepcopy()?"
   ]
  },
  {
   "cell_type": "markdown",
   "id": "830701c2",
   "metadata": {},
   "source": [
    "ans :"
   ]
  },
  {
   "cell_type": "markdown",
   "id": "7cf3272a",
   "metadata": {},
   "source": [
    "copy() create reference to original object. If you change copied object - you change the original object. . deepcopy() creates new object and does real copying of original object to new one. Changing new deepcopied object doesn't affect original object."
   ]
  },
  {
   "cell_type": "code",
   "execution_count": null,
   "id": "d03e722a",
   "metadata": {},
   "outputs": [],
   "source": []
  }
 ],
 "metadata": {
  "kernelspec": {
   "display_name": "Python 3 (ipykernel)",
   "language": "python",
   "name": "python3"
  },
  "language_info": {
   "codemirror_mode": {
    "name": "ipython",
    "version": 3
   },
   "file_extension": ".py",
   "mimetype": "text/x-python",
   "name": "python",
   "nbconvert_exporter": "python",
   "pygments_lexer": "ipython3",
   "version": "3.9.7"
  }
 },
 "nbformat": 4,
 "nbformat_minor": 5
}
