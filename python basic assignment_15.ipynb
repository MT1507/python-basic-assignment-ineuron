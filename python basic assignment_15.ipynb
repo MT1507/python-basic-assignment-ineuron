{
 "cells": [
  {
   "cell_type": "markdown",
   "id": "7304aed0",
   "metadata": {},
   "source": [
    "Q 1  :How many seconds are in an hour? Use the interactive interpreter as a calculator and multiply the\n",
    "number of seconds in a minute (60) by the number of minutes in an hour (also 60).\n",
    "sol. 60"
   ]
  },
  {
   "cell_type": "markdown",
   "id": "d339c196",
   "metadata": {},
   "source": [
    "ans :"
   ]
  },
  {
   "cell_type": "code",
   "execution_count": 1,
   "id": "27dcffa6",
   "metadata": {},
   "outputs": [
    {
     "name": "stdout",
     "output_type": "stream",
     "text": [
      "3600\n",
      "there are 3600 seconds in an hour \n"
     ]
    }
   ],
   "source": [
    "print(60*60)\n",
    "print(\"there are 3600 seconds in an hour \")"
   ]
  },
  {
   "cell_type": "markdown",
   "id": "0fe3c8a9",
   "metadata": {},
   "source": [
    "Q 2 : Assign the result from the previous task (seconds in an hour) to a variable called\n",
    "seconds_per_hour."
   ]
  },
  {
   "cell_type": "markdown",
   "id": "8f951f31",
   "metadata": {},
   "source": [
    "ans :"
   ]
  },
  {
   "cell_type": "code",
   "execution_count": 2,
   "id": "1e7b108d",
   "metadata": {},
   "outputs": [],
   "source": [
    "seconds_per_hour = 3600"
   ]
  },
  {
   "cell_type": "code",
   "execution_count": 3,
   "id": "33610066",
   "metadata": {},
   "outputs": [
    {
     "data": {
      "text/plain": [
       "3600"
      ]
     },
     "execution_count": 3,
     "metadata": {},
     "output_type": "execute_result"
    }
   ],
   "source": [
    "seconds_per_hour"
   ]
  },
  {
   "cell_type": "markdown",
   "id": "5bae992f",
   "metadata": {},
   "source": [
    "Q3 : How many seconds do you think there are in a day? Make use of the variables seconds per hour\n",
    "and minutes per hour."
   ]
  },
  {
   "cell_type": "markdown",
   "id": "279bf9e2",
   "metadata": {},
   "source": [
    "ans :"
   ]
  },
  {
   "cell_type": "code",
   "execution_count": 4,
   "id": "0e2b4e7d",
   "metadata": {},
   "outputs": [
    {
     "data": {
      "text/plain": [
       "86400"
      ]
     },
     "execution_count": 4,
     "metadata": {},
     "output_type": "execute_result"
    }
   ],
   "source": [
    "seconds_per_hour*24"
   ]
  },
  {
   "cell_type": "markdown",
   "id": "96125cb0",
   "metadata": {},
   "source": [
    "Q 4 : Calculate seconds per day again, but this time save the result in a variable called seconds_per_day"
   ]
  },
  {
   "cell_type": "markdown",
   "id": "4e0bfa64",
   "metadata": {},
   "source": [
    "ans :"
   ]
  },
  {
   "cell_type": "code",
   "execution_count": 5,
   "id": "f60c0c4a",
   "metadata": {},
   "outputs": [
    {
     "name": "stdout",
     "output_type": "stream",
     "text": [
      "86400\n"
     ]
    }
   ],
   "source": [
    "seconds_per_day = seconds_per_hour*24\n",
    "print(seconds_per_day)"
   ]
  },
  {
   "cell_type": "markdown",
   "id": "f6abcf91",
   "metadata": {},
   "source": [
    "Q 5 : Divide seconds_per_day by seconds_per_hour. Use floating-point (/) division."
   ]
  },
  {
   "cell_type": "markdown",
   "id": "7fdceeaf",
   "metadata": {},
   "source": [
    "ans :"
   ]
  },
  {
   "cell_type": "code",
   "execution_count": 6,
   "id": "21003048",
   "metadata": {},
   "outputs": [
    {
     "data": {
      "text/plain": [
       "24.0"
      ]
     },
     "execution_count": 6,
     "metadata": {},
     "output_type": "execute_result"
    }
   ],
   "source": [
    "seconds_per_day/seconds_per_hour"
   ]
  },
  {
   "cell_type": "markdown",
   "id": "3cdbd8a8",
   "metadata": {},
   "source": [
    "Q 6 : Divide seconds_per_day by seconds_per_hour, using integer (//) division. Did this number agree\n",
    "with the floating-point value from the previous question, aside from the final .0?"
   ]
  },
  {
   "cell_type": "markdown",
   "id": "919ee149",
   "metadata": {},
   "source": [
    "ans :\n",
    "    "
   ]
  },
  {
   "cell_type": "code",
   "execution_count": 7,
   "id": "088d66d0",
   "metadata": {},
   "outputs": [
    {
     "data": {
      "text/plain": [
       "24"
      ]
     },
     "execution_count": 7,
     "metadata": {},
     "output_type": "execute_result"
    }
   ],
   "source": [
    "seconds_per_day//seconds_per_hour"
   ]
  },
  {
   "cell_type": "markdown",
   "id": "e0fd9d23",
   "metadata": {},
   "source": [
    "yes,agree ."
   ]
  },
  {
   "cell_type": "markdown",
   "id": "ce5c5099",
   "metadata": {},
   "source": [
    "Q 7 : Write a generator, genPrimes, that returns the sequence of prime numbers on successive calls to\n",
    "its next() method: 2, 3, 5, 7, 11, ..."
   ]
  },
  {
   "cell_type": "markdown",
   "id": "9d5f2845",
   "metadata": {},
   "source": [
    "ans : "
   ]
  },
  {
   "cell_type": "code",
   "execution_count": 20,
   "id": "867ffb42",
   "metadata": {},
   "outputs": [],
   "source": [
    "def gen_prime_numbers():\n",
    "    n = 2\n",
    "    prime_number = set()\n",
    "    while n <100:\n",
    "        for i in prime_number:\n",
    "            if n % i == 0:\n",
    "                break\n",
    "        else:\n",
    "            prime_number.add(n)\n",
    "            yield n\n",
    "        n += 1"
   ]
  },
  {
   "cell_type": "code",
   "execution_count": 23,
   "id": "8b81293d",
   "metadata": {},
   "outputs": [],
   "source": [
    "prime_number = iter(gen_prime_numbers())"
   ]
  },
  {
   "cell_type": "code",
   "execution_count": null,
   "id": "85b5ee9b",
   "metadata": {},
   "outputs": [],
   "source": []
  },
  {
   "cell_type": "code",
   "execution_count": 24,
   "id": "5a4e6817",
   "metadata": {},
   "outputs": [
    {
     "data": {
      "text/plain": [
       "2"
      ]
     },
     "execution_count": 24,
     "metadata": {},
     "output_type": "execute_result"
    }
   ],
   "source": [
    "next(prime_number)"
   ]
  },
  {
   "cell_type": "code",
   "execution_count": 25,
   "id": "b286f92a",
   "metadata": {},
   "outputs": [
    {
     "data": {
      "text/plain": [
       "3"
      ]
     },
     "execution_count": 25,
     "metadata": {},
     "output_type": "execute_result"
    }
   ],
   "source": [
    "next(prime_number)"
   ]
  },
  {
   "cell_type": "code",
   "execution_count": 26,
   "id": "a81930ef",
   "metadata": {},
   "outputs": [
    {
     "data": {
      "text/plain": [
       "5"
      ]
     },
     "execution_count": 26,
     "metadata": {},
     "output_type": "execute_result"
    }
   ],
   "source": [
    "next(prime_number)"
   ]
  },
  {
   "cell_type": "code",
   "execution_count": 27,
   "id": "df83c5f8",
   "metadata": {},
   "outputs": [
    {
     "data": {
      "text/plain": [
       "7"
      ]
     },
     "execution_count": 27,
     "metadata": {},
     "output_type": "execute_result"
    }
   ],
   "source": [
    "next(prime_number)"
   ]
  },
  {
   "cell_type": "code",
   "execution_count": 28,
   "id": "f71ca56b",
   "metadata": {},
   "outputs": [
    {
     "data": {
      "text/plain": [
       "11"
      ]
     },
     "execution_count": 28,
     "metadata": {},
     "output_type": "execute_result"
    }
   ],
   "source": [
    "next(prime_number)"
   ]
  },
  {
   "cell_type": "code",
   "execution_count": null,
   "id": "0a38ac98",
   "metadata": {},
   "outputs": [],
   "source": []
  }
 ],
 "metadata": {
  "kernelspec": {
   "display_name": "Python 3 (ipykernel)",
   "language": "python",
   "name": "python3"
  },
  "language_info": {
   "codemirror_mode": {
    "name": "ipython",
    "version": 3
   },
   "file_extension": ".py",
   "mimetype": "text/x-python",
   "name": "python",
   "nbconvert_exporter": "python",
   "pygments_lexer": "ipython3",
   "version": "3.9.12"
  }
 },
 "nbformat": 4,
 "nbformat_minor": 5
}
