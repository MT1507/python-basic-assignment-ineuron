{
 "cells": [
  {
   "cell_type": "markdown",
   "id": "78d2476d",
   "metadata": {},
   "source": [
    "question 1 :"
   ]
  },
  {
   "cell_type": "markdown",
   "id": "f5424b7c",
   "metadata": {},
   "source": [
    "In the below elements which of them are values or an expression? eg:- values can be integer or string and expressions will be mathematical operators. "
   ]
  },
  {
   "cell_type": "markdown",
   "id": "d5215471",
   "metadata": {},
   "source": [
    "( * ,'hello' , -87.8 , - , / , + , 6 ) "
   ]
  },
  {
   "cell_type": "markdown",
   "id": "dd9d5304",
   "metadata": {},
   "source": [
    "Answer: "
   ]
  },
  {
   "cell_type": "markdown",
   "id": "6053895e",
   "metadata": {},
   "source": [
    " Values = 'hello' , -87.8 , 6 "
   ]
  },
  {
   "cell_type": "markdown",
   "id": "475d085a",
   "metadata": {},
   "source": [
    "Expressions = * , - , / , + "
   ]
  },
  {
   "cell_type": "markdown",
   "id": "93e7a852",
   "metadata": {},
   "source": [
    "question 2 :"
   ]
  },
  {
   "cell_type": "markdown",
   "id": "3774ce83",
   "metadata": {},
   "source": [
    "What is the difference between string and variable?"
   ]
  },
  {
   "cell_type": "markdown",
   "id": "24c4632a",
   "metadata": {},
   "source": [
    "Answer :"
   ]
  },
  {
   "cell_type": "markdown",
   "id": "931cf86b",
   "metadata": {},
   "source": [
    "Variable is a symbol ,which we can use to store values or information  in a program.\n",
    "(Information may be string,integer,float values,list,etc.)\n",
    "And string is a one of the datatype of value which we can store in variable,string is always in single Quotation Marks ('')or double Quotation Marks (\"\") \n"
   ]
  },
  {
   "cell_type": "markdown",
   "id": "0b226d12",
   "metadata": {},
   "source": [
    "question 3 :"
   ]
  },
  {
   "cell_type": "markdown",
   "id": "1fac1a3a",
   "metadata": {},
   "source": [
    "Describe three different data types."
   ]
  },
  {
   "cell_type": "markdown",
   "id": "bcb9d6c3",
   "metadata": {},
   "source": [
    "Answer:"
   ]
  },
  {
   "cell_type": "markdown",
   "id": "e3e26f76",
   "metadata": {},
   "source": [
    "Three different data types are as follows:\n",
    "a) string  - string is a datatype of python which contains values in quotation .it can be alphabets,numbers ,etc.\n",
    "             (eg. : \"mangesh\" ,\"76576\" )   \n",
    "b) int     -  int is a datatype of python which contains values as integers.\n",
    "              (eg.: 5435 , 8908 ) \n",
    "c) float   - float is a datatype of python which contains values as a float vaues in decimal point. \n",
    "             (eg.: 45.46,56.67)"
   ]
  },
  {
   "cell_type": "markdown",
   "id": "0e863dae",
   "metadata": {},
   "source": [
    "question 4:"
   ]
  },
  {
   "cell_type": "markdown",
   "id": "94842159",
   "metadata": {},
   "source": [
    "What is an expression made up of? What do all expressions do?"
   ]
  },
  {
   "cell_type": "markdown",
   "id": "a3c3084b",
   "metadata": {},
   "source": [
    "Answer:"
   ]
  },
  {
   "cell_type": "markdown",
   "id": "61abdf9b",
   "metadata": {},
   "source": [
    "An expression is a made up of values, variables, operators, and calls to functions.\n",
    "Expressions need to be evaluated. If you ask Python to print an expression, the interpreter evaluates the expression        and displays the result."
   ]
  },
  {
   "cell_type": "markdown",
   "id": "59950809",
   "metadata": {},
   "source": [
    "question 5 :"
   ]
  },
  {
   "cell_type": "markdown",
   "id": "6eb9137b",
   "metadata": {},
   "source": [
    "This assignment statements, like spam = 10. What is the difference between an expression and a statement?"
   ]
  },
  {
   "cell_type": "markdown",
   "id": "9ad72b6e",
   "metadata": {},
   "source": [
    "Answer:"
   ]
  },
  {
   "cell_type": "markdown",
   "id": "9273a09a",
   "metadata": {},
   "source": [
    "1)general defination:\n",
    "         Statements represent an action or command e.g print statements, assignment statements. Expression is a combination          of variables, operations and values that yields a result value.It is the difference between statement and                  expression.\n",
    "2)As per given example:\n",
    "         If we assign spam = 10 then statement = print(spam) and expression = spam "
   ]
  },
  {
   "cell_type": "markdown",
   "id": "2e99d809",
   "metadata": {},
   "source": [
    "question 6 :"
   ]
  },
  {
   "cell_type": "markdown",
   "id": "f18d7613",
   "metadata": {},
   "source": [
    "After running the following code, what does the variable bacon contain?"
   ]
  },
  {
   "cell_type": "markdown",
   "id": "2728a566",
   "metadata": {},
   "source": [
    "bacon = 22"
   ]
  },
  {
   "cell_type": "markdown",
   "id": "209e646e",
   "metadata": {},
   "source": [
    "bacon + 1"
   ]
  },
  {
   "cell_type": "markdown",
   "id": "25ccebb1",
   "metadata": {},
   "source": [
    "Answer:"
   ]
  },
  {
   "cell_type": "markdown",
   "id": "d1bf717f",
   "metadata": {},
   "source": [
    "The variable bacon contain 22"
   ]
  },
  {
   "cell_type": "markdown",
   "id": "0d07a09f",
   "metadata": {},
   "source": [
    "question 7 :"
   ]
  },
  {
   "cell_type": "markdown",
   "id": "65548866",
   "metadata": {},
   "source": [
    "What should the values of the following two terms be ?"
   ]
  },
  {
   "cell_type": "markdown",
   "id": "18592daa",
   "metadata": {},
   "source": [
    "'spam' + 'spamspam' and  'spam'*3"
   ]
  },
  {
   "cell_type": "markdown",
   "id": "66918b76",
   "metadata": {},
   "source": [
    "Answer:"
   ]
  },
  {
   "cell_type": "markdown",
   "id": "da59aa8d",
   "metadata": {},
   "source": [
    "The values of the following two terms will be same ('spamspamspam')"
   ]
  },
  {
   "cell_type": "code",
   "execution_count": 4,
   "id": "e13070af",
   "metadata": {},
   "outputs": [
    {
     "data": {
      "text/plain": [
       "'spamspamspam'"
      ]
     },
     "execution_count": 4,
     "metadata": {},
     "output_type": "execute_result"
    }
   ],
   "source": [
    "'spam' + 'spamspam'"
   ]
  },
  {
   "cell_type": "code",
   "execution_count": 5,
   "id": "407602de",
   "metadata": {},
   "outputs": [
    {
     "data": {
      "text/plain": [
       "'spamspamspam'"
      ]
     },
     "execution_count": 5,
     "metadata": {},
     "output_type": "execute_result"
    }
   ],
   "source": [
    "'spam' *3"
   ]
  },
  {
   "cell_type": "markdown",
   "id": "f82c0d1d",
   "metadata": {},
   "source": [
    "question 8 :"
   ]
  },
  {
   "cell_type": "markdown",
   "id": "30cb6240",
   "metadata": {},
   "source": [
    "Why is eggs a valid variable name while 100 is invalid ?"
   ]
  },
  {
   "cell_type": "markdown",
   "id": "ea2198e8",
   "metadata": {},
   "source": [
    "Answer:"
   ]
  },
  {
   "cell_type": "markdown",
   "id": "4f1589b8",
   "metadata": {},
   "source": [
    "According to python documentation variable names may contain letters, digits (0-9) or the underscore character _ .         Variable names must begin with a letter from A-Z or the underscore _ character. Either lowercase or uppercase letters       are acceptable.\n",
    "Because for this reason eggs is a valid variable name while 100 is invalid."
   ]
  },
  {
   "cell_type": "markdown",
   "id": "a51d0ace",
   "metadata": {},
   "source": [
    "question 9 :"
   ]
  },
  {
   "cell_type": "markdown",
   "id": "97e42fc9",
   "metadata": {},
   "source": [
    "What three functions can be used to get the integer, floating-point number, or string version of a value ?"
   ]
  },
  {
   "cell_type": "markdown",
   "id": "45e90028",
   "metadata": {},
   "source": [
    "Answer:"
   ]
  },
  {
   "cell_type": "markdown",
   "id": "1f499dcb",
   "metadata": {},
   "source": [
    "The three functions which can be used to get the integer, floating-point number, or string\n",
    "version of a value are as follows:                                                                                          1) For integer               : int()                                                                                      2) For floating-point number :float()                                                                                     3) For string                :str()"
   ]
  },
  {
   "cell_type": "code",
   "execution_count": 6,
   "id": "1ea49121",
   "metadata": {},
   "outputs": [
    {
     "data": {
      "text/plain": [
       "'34324'"
      ]
     },
     "execution_count": 6,
     "metadata": {},
     "output_type": "execute_result"
    }
   ],
   "source": [
    "str(34324)"
   ]
  },
  {
   "cell_type": "code",
   "execution_count": 7,
   "id": "74d842fc",
   "metadata": {},
   "outputs": [
    {
     "data": {
      "text/plain": [
       "34535"
      ]
     },
     "execution_count": 7,
     "metadata": {},
     "output_type": "execute_result"
    }
   ],
   "source": [
    "int(34535)"
   ]
  },
  {
   "cell_type": "code",
   "execution_count": 8,
   "id": "65c00a0c",
   "metadata": {},
   "outputs": [
    {
     "data": {
      "text/plain": [
       "345346.0"
      ]
     },
     "execution_count": 8,
     "metadata": {},
     "output_type": "execute_result"
    }
   ],
   "source": [
    "float(345346)"
   ]
  },
  {
   "cell_type": "markdown",
   "id": "a4409d6f",
   "metadata": {},
   "source": [
    "question 10 : "
   ]
  },
  {
   "cell_type": "markdown",
   "id": "7399aadb",
   "metadata": {},
   "source": [
    "Why does this expression cause an error? How can you fix it ?\n"
   ]
  },
  {
   "cell_type": "markdown",
   "id": "7c6d5333",
   "metadata": {},
   "source": [
    "'I have eaten' + 99 + 'burritos'\n"
   ]
  },
  {
   "cell_type": "markdown",
   "id": "da85cbd6",
   "metadata": {},
   "source": [
    "Answer :  "
   ]
  },
  {
   "cell_type": "markdown",
   "id": "0723f69d",
   "metadata": {},
   "source": [
    "According to python documentation only likely datatypes can concatenate                                                      for given example we are doing concatenation of string and integer which are heterogeneous .                                Therefore concatenation will show error.                                                                                    for fixing this issue i have to convert datatype of 99 from integer to string \n"
   ]
  },
  {
   "cell_type": "code",
   "execution_count": 11,
   "id": "3c732797",
   "metadata": {},
   "outputs": [
    {
     "ename": "TypeError",
     "evalue": "can only concatenate str (not \"int\") to str",
     "output_type": "error",
     "traceback": [
      "\u001b[1;31m---------------------------------------------------------------------------\u001b[0m",
      "\u001b[1;31mTypeError\u001b[0m                                 Traceback (most recent call last)",
      "\u001b[1;32m~\\AppData\\Local\\Temp/ipykernel_16824/1488253775.py\u001b[0m in \u001b[0;36m<module>\u001b[1;34m\u001b[0m\n\u001b[1;32m----> 1\u001b[1;33m \u001b[1;34m'I have eaten'\u001b[0m \u001b[1;33m+\u001b[0m \u001b[1;36m99\u001b[0m \u001b[1;33m+\u001b[0m\u001b[1;34m'burritos'\u001b[0m\u001b[1;33m\u001b[0m\u001b[1;33m\u001b[0m\u001b[0m\n\u001b[0m",
      "\u001b[1;31mTypeError\u001b[0m: can only concatenate str (not \"int\") to str"
     ]
    }
   ],
   "source": [
    "'I have eaten' + 99 +'burritos'"
   ]
  },
  {
   "cell_type": "code",
   "execution_count": 13,
   "id": "9a7f9a89",
   "metadata": {},
   "outputs": [
    {
     "data": {
      "text/plain": [
       "'I have eaten 99 burritos'"
      ]
     },
     "execution_count": 13,
     "metadata": {},
     "output_type": "execute_result"
    }
   ],
   "source": [
    "'I have eaten' + ' 99 ' +'burritos'"
   ]
  },
  {
   "cell_type": "code",
   "execution_count": null,
   "id": "bcbce4f7",
   "metadata": {},
   "outputs": [],
   "source": []
  }
 ],
 "metadata": {
  "kernelspec": {
   "display_name": "Python 3 (ipykernel)",
   "language": "python",
   "name": "python3"
  },
  "language_info": {
   "codemirror_mode": {
    "name": "ipython",
    "version": 3
   },
   "file_extension": ".py",
   "mimetype": "text/x-python",
   "name": "python",
   "nbconvert_exporter": "python",
   "pygments_lexer": "ipython3",
   "version": "3.9.7"
  }
 },
 "nbformat": 4,
 "nbformat_minor": 5
}
