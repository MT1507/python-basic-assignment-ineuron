{
 "cells": [
  {
   "cell_type": "markdown",
   "id": "c6e25a36",
   "metadata": {},
   "source": [
    "1. Create a list called years_list, starting with the year of your birth, and each year thereafter until the year of your fifth birthday. For example, if you were born in 1980. the list would be years_list =\n",
    "[1980, 1981, 1982, 1983, 1984, 1985]."
   ]
  },
  {
   "cell_type": "markdown",
   "id": "0e605f3b",
   "metadata": {},
   "source": [
    "ans :"
   ]
  },
  {
   "cell_type": "code",
   "execution_count": 1,
   "id": "df84d4e2",
   "metadata": {},
   "outputs": [
    {
     "name": "stdout",
     "output_type": "stream",
     "text": [
      "years_list =  [1998, 1999, 2000, 2001, 2002, 2003]\n"
     ]
    }
   ],
   "source": [
    "Born_year = 1998\n",
    "years_list = []\n",
    "n = 0\n",
    "while n <=5:\n",
    "    years_list.append(Born_year+n)\n",
    "    n +=1\n",
    "print(\"years_list = \",years_list)    "
   ]
  },
  {
   "cell_type": "markdown",
   "id": "d767838c",
   "metadata": {},
   "source": [
    "2. In which year in years_list was your third birthday? Remember, you were 0 years of age for your\n",
    "first year."
   ]
  },
  {
   "cell_type": "markdown",
   "id": "42709d8f",
   "metadata": {},
   "source": [
    "ans : "
   ]
  },
  {
   "cell_type": "code",
   "execution_count": 2,
   "id": "ddc88c28",
   "metadata": {},
   "outputs": [
    {
     "name": "stdout",
     "output_type": "stream",
     "text": [
      "year of my third birthday =  2001\n"
     ]
    }
   ],
   "source": [
    "print(\"year of my third birthday = \",years_list[3])"
   ]
  },
  {
   "cell_type": "markdown",
   "id": "615b7730",
   "metadata": {},
   "source": [
    "3.In the years list, which year were you the oldest?"
   ]
  },
  {
   "cell_type": "markdown",
   "id": "54e4ec27",
   "metadata": {},
   "source": [
    "ans : "
   ]
  },
  {
   "cell_type": "code",
   "execution_count": 3,
   "id": "c1fb8b2e",
   "metadata": {},
   "outputs": [
    {
     "name": "stdout",
     "output_type": "stream",
     "text": [
      "I was oldest at :  2003\n"
     ]
    }
   ],
   "source": [
    "print(\"I was oldest at : \",years_list[-1])"
   ]
  },
  {
   "cell_type": "markdown",
   "id": "08b5caa2",
   "metadata": {},
   "source": [
    "4. Make a list called things with these three strings as elements: &quot;mozzarella&quot;, &quot;cinderella&quot;,\n",
    "&quot;salmonella&quot;."
   ]
  },
  {
   "cell_type": "markdown",
   "id": "42e542e3",
   "metadata": {},
   "source": [
    "ans : "
   ]
  },
  {
   "cell_type": "code",
   "execution_count": 4,
   "id": "d2f50074",
   "metadata": {},
   "outputs": [],
   "source": [
    "things = [\"mozzarella\", \"cinderella\", \"salmonella\"]"
   ]
  },
  {
   "cell_type": "code",
   "execution_count": 5,
   "id": "64a5c2f1",
   "metadata": {},
   "outputs": [
    {
     "data": {
      "text/plain": [
       "['mozzarella', 'cinderella', 'salmonella']"
      ]
     },
     "execution_count": 5,
     "metadata": {},
     "output_type": "execute_result"
    }
   ],
   "source": [
    "things"
   ]
  },
  {
   "cell_type": "markdown",
   "id": "9e1fe601",
   "metadata": {},
   "source": [
    "5. Capitalize the element in things that refers to a person and then print the list. Did it change the\n",
    "element in the list?"
   ]
  },
  {
   "cell_type": "markdown",
   "id": "0fc3d387",
   "metadata": {},
   "source": [
    "ans :"
   ]
  },
  {
   "cell_type": "code",
   "execution_count": 6,
   "id": "5c912ab6",
   "metadata": {},
   "outputs": [
    {
     "data": {
      "text/plain": [
       "['Mozzarella', 'Cinderella', 'Salmonella']"
      ]
     },
     "execution_count": 6,
     "metadata": {},
     "output_type": "execute_result"
    }
   ],
   "source": [
    "things_ = []\n",
    "for i in things:\n",
    "    things_.append(i.capitalize())\n",
    "things_\n",
    "#Capitalize() will not change  the list original values."
   ]
  },
  {
   "cell_type": "markdown",
   "id": "aa3a6223",
   "metadata": {},
   "source": [
    "6. Make a surprise list with the elements &quot;Groucho,&quot; &quot;Chico,&quot; and &quot;Harpo.&quot;"
   ]
  },
  {
   "cell_type": "markdown",
   "id": "e667606e",
   "metadata": {},
   "source": [
    "ans :"
   ]
  },
  {
   "cell_type": "code",
   "execution_count": 7,
   "id": "0a4b0545",
   "metadata": {},
   "outputs": [],
   "source": [
    "surprise = [\"Groucho\",\"Chico\",\"Harpo\"]"
   ]
  },
  {
   "cell_type": "code",
   "execution_count": 8,
   "id": "c2d732d4",
   "metadata": {},
   "outputs": [
    {
     "data": {
      "text/plain": [
       "['Groucho', 'Chico', 'Harpo']"
      ]
     },
     "execution_count": 8,
     "metadata": {},
     "output_type": "execute_result"
    }
   ],
   "source": [
    "surprise"
   ]
  },
  {
   "cell_type": "markdown",
   "id": "f8a83710",
   "metadata": {},
   "source": [
    "7. Lowercase the last element of the surprise list, reverse it, and then capitalize it."
   ]
  },
  {
   "cell_type": "markdown",
   "id": "6ed50a7f",
   "metadata": {},
   "source": [
    "ans : "
   ]
  },
  {
   "cell_type": "code",
   "execution_count": 9,
   "id": "47c8701f",
   "metadata": {},
   "outputs": [
    {
     "data": {
      "text/plain": [
       "'harpo'"
      ]
     },
     "execution_count": 9,
     "metadata": {},
     "output_type": "execute_result"
    }
   ],
   "source": [
    "surprise[2].lower()"
   ]
  },
  {
   "cell_type": "code",
   "execution_count": 10,
   "id": "35c99886",
   "metadata": {},
   "outputs": [
    {
     "data": {
      "text/plain": [
       "'oprah'"
      ]
     },
     "execution_count": 10,
     "metadata": {},
     "output_type": "execute_result"
    }
   ],
   "source": [
    "surprise[2].lower()[::-1]"
   ]
  },
  {
   "cell_type": "code",
   "execution_count": 11,
   "id": "842698ba",
   "metadata": {},
   "outputs": [
    {
     "data": {
      "text/plain": [
       "'OPRAH'"
      ]
     },
     "execution_count": 11,
     "metadata": {},
     "output_type": "execute_result"
    }
   ],
   "source": [
    "ca = surprise[2].lower()[::-1]\n",
    "ca.upper()"
   ]
  },
  {
   "cell_type": "markdown",
   "id": "8e61e9e2",
   "metadata": {},
   "source": [
    "8. Make an English-to-French dictionary called e2f and print it. Here are your starter words: dog is\n",
    "chien, cat is chat, and walrus is morse."
   ]
  },
  {
   "cell_type": "markdown",
   "id": "b2dfe45c",
   "metadata": {},
   "source": [
    "ans : "
   ]
  },
  {
   "cell_type": "code",
   "execution_count": 12,
   "id": "f5b4e332",
   "metadata": {},
   "outputs": [],
   "source": [
    "e2f = {\"dog\" : \"chien\" , \"cat\" : \"chat\" , \"walrus\" : \"morse\"}"
   ]
  },
  {
   "cell_type": "code",
   "execution_count": 13,
   "id": "7f602b6c",
   "metadata": {},
   "outputs": [
    {
     "data": {
      "text/plain": [
       "{'dog': 'chien', 'cat': 'chat', 'walrus': 'morse'}"
      ]
     },
     "execution_count": 13,
     "metadata": {},
     "output_type": "execute_result"
    }
   ],
   "source": [
    "e2f"
   ]
  },
  {
   "cell_type": "markdown",
   "id": "789b08b5",
   "metadata": {},
   "source": [
    "9. Write the French word for walrus in your three-word dictionary e2f."
   ]
  },
  {
   "cell_type": "markdown",
   "id": "5ed19794",
   "metadata": {},
   "source": [
    "ans : "
   ]
  },
  {
   "cell_type": "code",
   "execution_count": 14,
   "id": "a42f168c",
   "metadata": {},
   "outputs": [
    {
     "data": {
      "text/plain": [
       "'morse'"
      ]
     },
     "execution_count": 14,
     "metadata": {},
     "output_type": "execute_result"
    }
   ],
   "source": [
    "e2f[\"walrus\"]"
   ]
  },
  {
   "cell_type": "markdown",
   "id": "8de14368",
   "metadata": {},
   "source": [
    "10. Make a French-to-English dictionary called f2e from e2f. Use the items method."
   ]
  },
  {
   "cell_type": "markdown",
   "id": "33243668",
   "metadata": {},
   "source": [
    "ans : "
   ]
  },
  {
   "cell_type": "code",
   "execution_count": 15,
   "id": "7497c478",
   "metadata": {},
   "outputs": [],
   "source": [
    "f2e = {}\n",
    "for keys,values in e2f.items():\n",
    "    f2e[values] = keys\n",
    "    "
   ]
  },
  {
   "cell_type": "code",
   "execution_count": 16,
   "id": "501e5d28",
   "metadata": {},
   "outputs": [
    {
     "data": {
      "text/plain": [
       "{'chien': 'dog', 'chat': 'cat', 'morse': 'walrus'}"
      ]
     },
     "execution_count": 16,
     "metadata": {},
     "output_type": "execute_result"
    }
   ],
   "source": [
    "f2e"
   ]
  },
  {
   "cell_type": "markdown",
   "id": "3089a3a7",
   "metadata": {},
   "source": [
    "11. Print the English version of the French word chien using f2e."
   ]
  },
  {
   "cell_type": "markdown",
   "id": "67b2fbe8",
   "metadata": {},
   "source": [
    "ans : "
   ]
  },
  {
   "cell_type": "code",
   "execution_count": 17,
   "id": "1c5fbcdb",
   "metadata": {},
   "outputs": [
    {
     "data": {
      "text/plain": [
       "'dog'"
      ]
     },
     "execution_count": 17,
     "metadata": {},
     "output_type": "execute_result"
    }
   ],
   "source": [
    "f2e[\"chien\"]"
   ]
  },
  {
   "cell_type": "markdown",
   "id": "a56a0b71",
   "metadata": {},
   "source": [
    "12. Make and print a set of English words from the keys in e2f."
   ]
  },
  {
   "cell_type": "markdown",
   "id": "095b5171",
   "metadata": {},
   "source": [
    "ans : "
   ]
  },
  {
   "cell_type": "code",
   "execution_count": 18,
   "id": "47369075",
   "metadata": {},
   "outputs": [
    {
     "data": {
      "text/plain": [
       "{'cat', 'dog', 'walrus'}"
      ]
     },
     "execution_count": 18,
     "metadata": {},
     "output_type": "execute_result"
    }
   ],
   "source": [
    "set(e2f.keys())"
   ]
  },
  {
   "cell_type": "markdown",
   "id": "18e59114",
   "metadata": {},
   "source": [
    "13. Make a multilevel dictionary called life. Use these strings for the topmost keys: &#39;animals&#39;, &#39;plants&#39;,\n",
    "and &#39;other&#39;. Make the &#39;animals&#39; key refer to another dictionary with the keys &#39;cats&#39;, &#39;octopi&#39;, and\n",
    "&#39;emus&#39;. Make the &#39;cats&#39; key refer to a list of strings with the values &#39;Henri&#39;, &#39;Grumpy&#39;, and &#39;Lucy&#39;.\n",
    "Make all the other keys refer to empty dictionaries."
   ]
  },
  {
   "cell_type": "markdown",
   "id": "cd4784d1",
   "metadata": {},
   "source": [
    "ans :"
   ]
  },
  {
   "cell_type": "code",
   "execution_count": 19,
   "id": "72942646",
   "metadata": {},
   "outputs": [],
   "source": [
    "life = {\"animals\":{\"cats\":[ 'Henri', 'Grumpy', 'Lucy'],\"octopi\":{},\"emus\":{}},\n",
    "       \"plants\":{},\n",
    "       \"others\":{}}"
   ]
  },
  {
   "cell_type": "code",
   "execution_count": 20,
   "id": "626e6301",
   "metadata": {},
   "outputs": [
    {
     "data": {
      "text/plain": [
       "{'animals': {'cats': ['Henri', 'Grumpy', 'Lucy'], 'octopi': {}, 'emus': {}},\n",
       " 'plants': {},\n",
       " 'others': {}}"
      ]
     },
     "execution_count": 20,
     "metadata": {},
     "output_type": "execute_result"
    }
   ],
   "source": [
    "life"
   ]
  },
  {
   "cell_type": "markdown",
   "id": "9b50572c",
   "metadata": {},
   "source": [
    "14. Print the top-level keys of life."
   ]
  },
  {
   "cell_type": "markdown",
   "id": "68e272d4",
   "metadata": {},
   "source": [
    "ans : "
   ]
  },
  {
   "cell_type": "code",
   "execution_count": 21,
   "id": "01896fd6",
   "metadata": {},
   "outputs": [
    {
     "data": {
      "text/plain": [
       "dict_keys(['animals', 'plants', 'others'])"
      ]
     },
     "execution_count": 21,
     "metadata": {},
     "output_type": "execute_result"
    }
   ],
   "source": [
    "life.keys()"
   ]
  },
  {
   "cell_type": "markdown",
   "id": "ac64a30c",
   "metadata": {},
   "source": [
    "15. Print the keys for life[&#39;animals&#39;]."
   ]
  },
  {
   "cell_type": "markdown",
   "id": "a49f8290",
   "metadata": {},
   "source": [
    "ans :"
   ]
  },
  {
   "cell_type": "code",
   "execution_count": 22,
   "id": "d3324310",
   "metadata": {},
   "outputs": [
    {
     "data": {
      "text/plain": [
       "dict_keys(['cats', 'octopi', 'emus'])"
      ]
     },
     "execution_count": 22,
     "metadata": {},
     "output_type": "execute_result"
    }
   ],
   "source": [
    "life[\"animals\"].keys()"
   ]
  },
  {
   "cell_type": "markdown",
   "id": "19217e27",
   "metadata": {},
   "source": [
    "16. Print the values for life[&#39;animals&#39;][&#39;cats&#39;]"
   ]
  },
  {
   "cell_type": "markdown",
   "id": "9f0ce490",
   "metadata": {},
   "source": [
    "ans : "
   ]
  },
  {
   "cell_type": "code",
   "execution_count": 23,
   "id": "141de902",
   "metadata": {},
   "outputs": [
    {
     "data": {
      "text/plain": [
       "['Henri', 'Grumpy', 'Lucy']"
      ]
     },
     "execution_count": 23,
     "metadata": {},
     "output_type": "execute_result"
    }
   ],
   "source": [
    "life[\"animals\"][\"cats\"]"
   ]
  },
  {
   "cell_type": "code",
   "execution_count": null,
   "id": "c6edf326",
   "metadata": {},
   "outputs": [],
   "source": []
  }
 ],
 "metadata": {
  "kernelspec": {
   "display_name": "Python 3 (ipykernel)",
   "language": "python",
   "name": "python3"
  },
  "language_info": {
   "codemirror_mode": {
    "name": "ipython",
    "version": 3
   },
   "file_extension": ".py",
   "mimetype": "text/x-python",
   "name": "python",
   "nbconvert_exporter": "python",
   "pygments_lexer": "ipython3",
   "version": "3.9.12"
  }
 },
 "nbformat": 4,
 "nbformat_minor": 5
}
